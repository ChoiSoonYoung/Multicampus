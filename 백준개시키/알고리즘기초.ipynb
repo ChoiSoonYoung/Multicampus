{
 "cells": [
  {
   "cell_type": "markdown",
   "metadata": {},
   "source": [
    "# 알고리즘기초\n",
    "\n",
    "## 1. 알고리즘과 입/출력\n",
    "\n",
    "### - Hello World\n",
    "\n",
    "Hello World!를 출력하시오."
   ]
  },
  {
   "cell_type": "code",
   "execution_count": 1,
   "metadata": {},
   "outputs": [
    {
     "name": "stdout",
     "output_type": "stream",
     "text": [
      "Hello World!\n"
     ]
    }
   ],
   "source": [
    "print('Hello World!')"
   ]
  },
  {
   "cell_type": "markdown",
   "metadata": {},
   "source": [
    "### - A+B\n",
    "\n",
    "두 정수 A와 B를 입력받은 다음, A+B를 출력하는 프로그램을 작성하시오."
   ]
  },
  {
   "cell_type": "code",
   "execution_count": 3,
   "metadata": {},
   "outputs": [
    {
     "name": "stdout",
     "output_type": "stream",
     "text": [
      "1 2\n",
      "3\n"
     ]
    }
   ],
   "source": [
    "a, b = map(int,input().split(' '))\n",
    "print(a+b)"
   ]
  },
  {
   "cell_type": "markdown",
   "metadata": {},
   "source": [
    "### - A+B - 2\n",
    "\n",
    "두 정수 A와 B를 입력받은 다음, A+B를 출력하는 프로그램을 작성하시오."
   ]
  },
  {
   "cell_type": "code",
   "execution_count": 6,
   "metadata": {},
   "outputs": [
    {
     "name": "stdout",
     "output_type": "stream",
     "text": [
      "1\n",
      "2\n",
      "3\n"
     ]
    }
   ],
   "source": [
    "a = int(input())\n",
    "b = int(input())\n",
    "print(a+b)\n"
   ]
  },
  {
   "cell_type": "markdown",
   "metadata": {},
   "source": [
    "### - A+B - 3\n",
    "\n",
    "두 정수 A와 B를 입력받은 다음, A+B를 출력하는 프로그램을 작성하시오."
   ]
  },
  {
   "cell_type": "code",
   "execution_count": 7,
   "metadata": {},
   "outputs": [
    {
     "name": "stdout",
     "output_type": "stream",
     "text": [
      "3\n",
      "1 2\n",
      "3\n",
      "3 4\n",
      "7\n",
      "2 5\n",
      "7\n"
     ]
    }
   ],
   "source": [
    "input_count = int(input())\n",
    "\n",
    "for i in range(input_count):\n",
    "    a,b = map(int, input().split(' '))\n",
    "    print(a+b)"
   ]
  },
  {
   "cell_type": "markdown",
   "metadata": {},
   "source": [
    "### - A+B - 4 (cmd 에서 다시 풀어보기)\n",
    "\n",
    "두 정수 A와 B를 입력받은 다음, A+B를 출력하는 프로그램을 작성하시오."
   ]
  },
  {
   "cell_type": "code",
   "execution_count": 1,
   "metadata": {
    "scrolled": true
   },
   "outputs": [
    {
     "name": "stdout",
     "output_type": "stream",
     "text": [
      "2 3\n",
      "5\n",
      "4 5\n",
      "9\n",
      "2 5\n",
      "7\n",
      "\n"
     ]
    }
   ],
   "source": [
    "import sys\n",
    "'''\n",
    "for line in sys.stdin:\n",
    "    a,b = map(int, line.split())\n",
    "    print(a+b)\n",
    "'''\n",
    "try:\n",
    "    while 1:\n",
    "        a,b = map(int, input().split())\n",
    " \n",
    "        print(a+b)\n",
    "except:\n",
    "    exit()"
   ]
  },
  {
   "cell_type": "markdown",
   "metadata": {},
   "source": [
    "### - A+B - 5\n",
    "\n",
    "두 정수 A와 B를 입력받은 다음, A+B를 출력하는 프로그램을 작성하시오."
   ]
  },
  {
   "cell_type": "code",
   "execution_count": 1,
   "metadata": {},
   "outputs": [
    {
     "name": "stdout",
     "output_type": "stream",
     "text": [
      "2 4\n",
      "6\n",
      "0 3\n",
      "3\n",
      "4 4\n",
      "8\n",
      "0 0\n"
     ]
    }
   ],
   "source": [
    "while 1 :\n",
    "    a,b = map(int, input().split())\n",
    "    if a == 0 and b == 0:\n",
    "        break\n",
    "    print(a+b)"
   ]
  },
  {
   "cell_type": "markdown",
   "metadata": {},
   "source": [
    "### - A+B - 6\n",
    "\n",
    "두 정수 A와 B를 입력받은 다음, A+B를 출력하는 프로그램을 작성하시오."
   ]
  },
  {
   "cell_type": "code",
   "execution_count": 2,
   "metadata": {},
   "outputs": [
    {
     "name": "stdout",
     "output_type": "stream",
     "text": [
      "4\n",
      "1,2\n",
      "3\n",
      "2,4\n",
      "6\n",
      "3,5\n",
      "8\n",
      "2,5\n",
      "7\n"
     ]
    }
   ],
   "source": [
    "input_count = int(input())\n",
    "\n",
    "for i in range(input_count):\n",
    "    a,b = map(int, input().split(','))\n",
    "    print(a+b)"
   ]
  },
  {
   "cell_type": "markdown",
   "metadata": {},
   "source": [
    "### - A+B - 7\n",
    "\n",
    "두 정수 A와 B를 입력받은 다음, A+B를 출력하는 프로그램을 작성하시오."
   ]
  },
  {
   "cell_type": "code",
   "execution_count": 5,
   "metadata": {},
   "outputs": [
    {
     "name": "stdout",
     "output_type": "stream",
     "text": [
      "2\n",
      "1 2\n",
      "Case #1: 3\n",
      "3 2\n",
      "Case #2: 5\n"
     ]
    }
   ],
   "source": [
    "input_count = int(input())\n",
    "\n",
    "for i in range(input_count):\n",
    "    a,b = map(int, input().split(' '))\n",
    "    print('Case #{0}: {1}'.format(i+1,a+b))"
   ]
  },
  {
   "cell_type": "markdown",
   "metadata": {},
   "source": [
    "### - A+B - 8\n",
    "\n",
    "두 정수 A와 B를 입력받은 다음, A+B를 출력하는 프로그램을 작성하시오."
   ]
  },
  {
   "cell_type": "code",
   "execution_count": 6,
   "metadata": {},
   "outputs": [
    {
     "name": "stdout",
     "output_type": "stream",
     "text": [
      "2\n",
      "1 2\n",
      "Case #1: 1 + 2 = 3\n",
      "3 4\n",
      "Case #2: 3 + 4 = 7\n"
     ]
    }
   ],
   "source": [
    "input_count = int(input())\n",
    "\n",
    "for i in range(input_count):\n",
    "    a,b = map(int, input().split(' '))\n",
    "    print('Case #{0}: {1} + {2} = {3}'.format(i+1,a,b,a+b))"
   ]
  },
  {
   "cell_type": "markdown",
   "metadata": {},
   "source": [
    "### - 그대로 출력하기\n",
    "\n",
    "입력 받은 대로 출력하는 프로그램을 작성하시오."
   ]
  },
  {
   "cell_type": "code",
   "execution_count": null,
   "metadata": {},
   "outputs": [],
   "source": [
    "\n",
    "while 1 :\n",
    "   \n",
    "    input_text = input()\n",
    "    if input_text.startswith(' ') or input_text.endswith(' ') or input_text == :\n",
    "        break\n",
    "    print(input_text)\n"
   ]
  },
  {
   "cell_type": "code",
   "execution_count": null,
   "metadata": {},
   "outputs": [],
   "source": [
    "while True:\n",
    "    try:\n",
    "        print(input())\n",
    "    except EOFError:\n",
    "        break"
   ]
  },
  {
   "cell_type": "code",
   "execution_count": null,
   "metadata": {},
   "outputs": [],
   "source": [
    "while True:\n",
    "    line = f.readline()\n",
    "    print(line)\n",
    "    if line == \"\": \n",
    "        print(\"끝\") \n",
    "        break "
   ]
  },
  {
   "cell_type": "markdown",
   "metadata": {},
   "source": [
    "### - 그대로 출력하기 - 2\n",
    "\n",
    "입력 받은 대로 출력하는 프로그램을 작성하시오."
   ]
  },
  {
   "cell_type": "code",
   "execution_count": null,
   "metadata": {},
   "outputs": [
    {
     "name": "stdout",
     "output_type": "stream",
     "text": [
      "   back\n",
      "   back\n",
      "\n",
      "\n",
      "dnflkdsnfl\n",
      "dnflkdsnfl\n"
     ]
    }
   ],
   "source": [
    "while 1 :\n",
    "    try:\n",
    "        \n",
    "        print(input())\n",
    "    except:\n",
    "        break"
   ]
  },
  {
   "cell_type": "markdown",
   "metadata": {},
   "source": [
    "### - 숫자의 합\n",
    "\n",
    "N개의 숫자가 공백 없이 쓰여있다. 이 숫자를 모두 합해서 출력하는 프로그램을 작성하시오."
   ]
  },
  {
   "cell_type": "code",
   "execution_count": 6,
   "metadata": {
    "scrolled": true
   },
   "outputs": [
    {
     "name": "stdout",
     "output_type": "stream",
     "text": [
      "5\n",
      "12345\n",
      "15\n"
     ]
    }
   ],
   "source": [
    "input_count = int(input())\n",
    "input_num = input()\n",
    "input_sum = 0\n",
    "for i in range(input_count):\n",
    "    input_sum += int(input_num[i])\n",
    "print(input_sum)"
   ]
  },
  {
   "cell_type": "markdown",
   "metadata": {},
   "source": [
    "### - 열 개씩 끊어 출력하기\n",
    "\n",
    "알파벳 소문자와 대문자로만 이루어진 길이가 N인 단어가 주어진다.\n",
    "\n",
    "한 줄에 10글자씩 끊어서 출력하는 프로그램을 작성하시오."
   ]
  },
  {
   "cell_type": "code",
   "execution_count": 11,
   "metadata": {},
   "outputs": [],
   "source": [
    "\n",
    "#나중에푼다\n"
   ]
  },
  {
   "cell_type": "markdown",
   "metadata": {},
   "source": [
    "## 2. 자료구조 1\n",
    "\n",
    "### - 스택\n",
    "\n",
    "정수를 저장하는 스택을 구현한 다음, 입력으로 주어지는 명령을 처리하는 프로그램을 작성하시오.\n",
    "\n",
    "명령은 총 다섯 가지이다.\n",
    "\n",
    "push X: 정수 X를 스택에 넣는 연산이다.\n",
    "pop: 스택에서 가장 위에 있는 정수를 빼고, 그 수를 출력한다. 만약 스택에 들어있는 정수가 없는 경우에는 -1을 출력한다.\n",
    "size: 스택에 들어있는 정수의 개수를 출력한다.\n",
    "empty: 스택이 비어있으면 1, 아니면 0을 출력한다.\n",
    "top: 스택의 가장 위에 있는 정수를 출력한다. 만약 스택에 들어있는 정수가 없는 경우에는 -1을 출력한다."
   ]
  },
  {
   "cell_type": "code",
   "execution_count": null,
   "metadata": {},
   "outputs": [
    {
     "name": "stdout",
     "output_type": "stream",
     "text": [
      "push 1\n",
      "push 2\n",
      "top\n",
      "2\n",
      "size\n",
      "2\n",
      "empty\n",
      "0\n",
      "pop\n",
      "2\n",
      "pop\n",
      "1\n",
      "pop\n",
      "-1\n",
      "size\n",
      "0\n",
      "empty\n",
      "1\n",
      "pop\n",
      "-1\n",
      "push 3\n",
      "empty\n",
      "0\n",
      "top\n",
      "3\n",
      "\n",
      "\n",
      "\n"
     ]
    }
   ],
   "source": [
    "'''14\n",
    "push 1\n",
    "push 2\n",
    "top\n",
    "size\n",
    "empty\n",
    "pop\n",
    "pop\n",
    "pop\n",
    "size\n",
    "empty\n",
    "pop\n",
    "push 3\n",
    "empty\n",
    "top'''\n",
    "\n",
    "stack = []\n",
    "\n",
    "def push(X):\n",
    "    stack.append(X)\n",
    "def pop():\n",
    "    if len(stack) == 0 :\n",
    "        print(-1)\n",
    "    else:\n",
    "        print(stack.pop())\n",
    "def size():\n",
    "    print(len(stack))\n",
    "def empty():\n",
    "    if len(stack) == 0 :\n",
    "        print(1)\n",
    "    else:\n",
    "        print(0)\n",
    "def top():\n",
    "    if len(stack) == 0 :\n",
    "        print(-1)\n",
    "    else:\n",
    "        print(stack[-1])\n",
    "\n",
    "        \n",
    "while 1:\n",
    "    try :\n",
    "        input_text = input()\n",
    "        if input_text.startswith('push'):\n",
    "            a,b =input_text.split()\n",
    "            push(int(b))\n",
    "        elif input_text == 'pop' :\n",
    "            pop()\n",
    "        elif input_text == 'size' :\n",
    "            size()\n",
    "        elif input_text == 'empty' :\n",
    "            empty()\n",
    "        elif input_text == 'top' :\n",
    "            top()\n",
    "    except EOFError:\n",
    "        break\n",
    "    "
   ]
  },
  {
   "cell_type": "markdown",
   "metadata": {},
   "source": [
    "### - 괄호\n",
    "\n",
    "문제\n",
    "괄호 문자열(Parenthesis String, PS)은 두 개의 괄호 기호인 ‘(’ 와 ‘)’ 만으로 구성되어 있는 문자열이다. 그 중에서 괄호의 모양이 바르게 구성된 문자열을 올바른 괄호 문자열(Valid PS, VPS)이라고 부른다. 한 쌍의 괄호 기호로 된 “( )” 문자열은 기본 VPS 이라고 부른다. 만일 x 가 VPS 라면 이것을 하나의 괄호에 넣은 새로운 문자열 “(x)”도 VPS 가 된다. 그리고 두 VPS x 와 y를 접합(concatenation)시킨 새로운 문자열 xy도 VPS 가 된다. 예를 들어 “(())()”와 “((()))” 는 VPS 이지만 “(()(”, “(())()))” , 그리고 “(()” 는 모두 VPS 가 아닌 문자열이다. \n",
    "\n",
    "여러분은 입력으로 주어진 괄호 문자열이 VPS 인지 아닌지를 판단해서 그 결과를 YES 와 NO 로 나타내어야 한다. \n",
    "\n",
    "입력\n",
    "입력 데이터는 표준 입력을 사용한다. 입력은 T개의 테스트 데이터로 주어진다. 입력의 첫 번째 줄에는 입력 데이터의 수를 나타내는 정수 T가 주어진다. 각 테스트 데이터의 첫째 줄에는 괄호 문자열이 한 줄에 주어진다. 하나의 괄호 문자열의 길이는 2 이상 50 이하이다. \n",
    "\n",
    "출력\n",
    "출력은 표준 출력을 사용한다. 만일 입력 괄호 문자열이 올바른 괄호 문자열(VPS)이면 “YES”, 아니면 “NO”를 한 줄에 하나씩 차례대로 출력해야 한다. "
   ]
  },
  {
   "cell_type": "code",
   "execution_count": 21,
   "metadata": {},
   "outputs": [
    {
     "name": "stdout",
     "output_type": "stream",
     "text": [
      "(())\n",
      "['(']\n",
      "[')']\n",
      "YES\n"
     ]
    }
   ],
   "source": [
    "stack = []\n",
    "\n",
    "input_ps = list(input())\n",
    "\n",
    "def hamsu(input_ps):\n",
    "    for idx, i in enumerate(input_ps):\n",
    "        if len(stack) !=0:\n",
    "            print(stack)\n",
    "            stack.append(i)\n",
    "            if input_ps[idx-1] == input_ps[idx]:\n",
    "                stack.pop()\n",
    "                stack.pop()\n",
    "            elif input_ps[idx-1] != input_ps[idx]:\n",
    "                stack.append(i)\n",
    "        else:\n",
    "            stack.append(i)\n",
    "    if len(stack) == 0:\n",
    "        print('YES')\n",
    "    else:\n",
    "        print('NO')\n",
    "hamsu(input_ps)\n"
   ]
  },
  {
   "cell_type": "code",
   "execution_count": null,
   "metadata": {},
   "outputs": [],
   "source": [
    "stack = []\n",
    "\n",
    "input_num = int(input())\n",
    "\n",
    "\n",
    "for i in range(input_num):\n",
    "    input_ps = list(input())\n",
    "    for i in input_ps:\n",
    "        if i == '(':\n",
    "            stack.append(i)\n",
    "        elif i == ')':\n",
    "            if len(stack) == 0 :\n",
    "                stack.append(i)\n",
    "                break\n",
    "            else:\n",
    "                stack.pop()\n",
    "\n",
    "    if len(stack) == 0:\n",
    "        print('YES')\n",
    "    else:\n",
    "        print('NO')\n",
    "        stack = []\n",
    "    "
   ]
  }
 ],
 "metadata": {
  "kernelspec": {
   "display_name": "Python 3",
   "language": "python",
   "name": "python3"
  },
  "language_info": {
   "codemirror_mode": {
    "name": "ipython",
    "version": 3
   },
   "file_extension": ".py",
   "mimetype": "text/x-python",
   "name": "python",
   "nbconvert_exporter": "python",
   "pygments_lexer": "ipython3",
   "version": "3.7.3"
  }
 },
 "nbformat": 4,
 "nbformat_minor": 2
}
