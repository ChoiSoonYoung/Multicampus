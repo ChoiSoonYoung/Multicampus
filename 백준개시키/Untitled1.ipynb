{
 "cells": [
  {
   "cell_type": "code",
   "execution_count": 1,
   "metadata": {},
   "outputs": [
    {
     "name": "stdout",
     "output_type": "stream",
     "text": [
      "2\n",
      "()()()()(()()())()\n",
      "YES\n",
      "((()()(()))(((())))()\n",
      "NO\n"
     ]
    }
   ],
   "source": [
    "stack = []\n",
    "\n",
    "input_num = int(input())\n",
    "\n",
    "\n",
    "for i in range(input_num):\n",
    "    input_ps = list(input())\n",
    "    for i in input_ps:\n",
    "        if i == '(':\n",
    "            stack.append(i)\n",
    "        elif i == ')':\n",
    "            if len(stack) == 0 :\n",
    "                stack.append(i)\n",
    "                break\n",
    "            else:\n",
    "                stack.pop()\n",
    "\n",
    "    if len(stack) == 0:\n",
    "        print('YES')\n",
    "    else:\n",
    "        print('NO')\n",
    "        stack = []"
   ]
  },
  {
   "cell_type": "code",
   "execution_count": null,
   "metadata": {},
   "outputs": [],
   "source": []
  }
 ],
 "metadata": {
  "kernelspec": {
   "display_name": "Python 3",
   "language": "python",
   "name": "python3"
  },
  "language_info": {
   "codemirror_mode": {
    "name": "ipython",
    "version": 3
   },
   "file_extension": ".py",
   "mimetype": "text/x-python",
   "name": "python",
   "nbconvert_exporter": "python",
   "pygments_lexer": "ipython3",
   "version": "3.7.3"
  }
 },
 "nbformat": 4,
 "nbformat_minor": 2
}
