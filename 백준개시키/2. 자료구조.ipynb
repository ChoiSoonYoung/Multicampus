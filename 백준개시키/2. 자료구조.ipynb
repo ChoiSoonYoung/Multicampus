{
 "cells": [
  {
   "cell_type": "markdown",
   "metadata": {},
   "source": [
    "# 2. 자료구조\n",
    "\n",
    "## 2. 자료구조 1\n",
    "\n",
    "### - 스택\n",
    "\n",
    "정수를 저장하는 스택을 구현한 다음, 입력으로 주어지는 명령을 처리하는 프로그램을 작성하시오.\n",
    "\n",
    "명령은 총 다섯 가지이다.\n",
    "\n",
    "push X: 정수 X를 스택에 넣는 연산이다.\n",
    "pop: 스택에서 가장 위에 있는 정수를 빼고, 그 수를 출력한다. 만약 스택에 들어있는 정수가 없는 경우에는 -1을 출력한다.\n",
    "size: 스택에 들어있는 정수의 개수를 출력한다.\n",
    "empty: 스택이 비어있으면 1, 아니면 0을 출력한다.\n",
    "top: 스택의 가장 위에 있는 정수를 출력한다. 만약 스택에 들어있는 정수가 없는 경우에는 -1을 출력한다."
   ]
  },
  {
   "cell_type": "code",
   "execution_count": 1,
   "metadata": {},
   "outputs": [
    {
     "name": "stdout",
     "output_type": "stream",
     "text": [
      "3\n",
      "push 3\n",
      "pop\n",
      "3\n",
      "top\n",
      "-1\n"
     ]
    }
   ],
   "source": [
    "'''14\n",
    "push 1\n",
    "push 2\n",
    "top\n",
    "size\n",
    "empty\n",
    "pop\n",
    "pop\n",
    "pop\n",
    "size\n",
    "empty\n",
    "pop\n",
    "push 3\n",
    "empty\n",
    "top'''\n",
    "\n",
    "stack = []\n",
    "\n",
    "def push(X):\n",
    "    stack.append(X)\n",
    "def pop():\n",
    "    if len(stack) == 0 :\n",
    "        print(-1)\n",
    "    else:\n",
    "        print(stack.pop())\n",
    "def size():\n",
    "    print(len(stack))\n",
    "def empty():\n",
    "    if len(stack) == 0 :\n",
    "        print(1)\n",
    "    else:\n",
    "        print(0)\n",
    "def top():\n",
    "    if len(stack) == 0 :\n",
    "        print(-1)\n",
    "    else:\n",
    "        print(stack[-1])\n",
    "input_num = int(input())\n",
    "        \n",
    "for i in range(input_num):\n",
    "    try :\n",
    "        input_text = input()\n",
    "        if input_text.startswith('push'):\n",
    "            a,b =input_text.split()\n",
    "            push(int(b))\n",
    "        elif input_text == 'pop' :\n",
    "            pop()\n",
    "        elif input_text == 'size' :\n",
    "            size()\n",
    "        elif input_text == 'empty' :\n",
    "            empty()\n",
    "        elif input_text == 'top' :\n",
    "            top()\n",
    "    except EOFError:\n",
    "        break\n",
    "    "
   ]
  },
  {
   "cell_type": "markdown",
   "metadata": {},
   "source": [
    "### - 괄호\n",
    "\n",
    "문제\n",
    "괄호 문자열(Parenthesis String, PS)은 두 개의 괄호 기호인 ‘(’ 와 ‘)’ 만으로 구성되어 있는 문자열이다. 그 중에서 괄호의 모양이 바르게 구성된 문자열을 올바른 괄호 문자열(Valid PS, VPS)이라고 부른다. 한 쌍의 괄호 기호로 된 “( )” 문자열은 기본 VPS 이라고 부른다. 만일 x 가 VPS 라면 이것을 하나의 괄호에 넣은 새로운 문자열 “(x)”도 VPS 가 된다. 그리고 두 VPS x 와 y를 접합(concatenation)시킨 새로운 문자열 xy도 VPS 가 된다. 예를 들어 “(())()”와 “((()))” 는 VPS 이지만 “(()(”, “(())()))” , 그리고 “(()” 는 모두 VPS 가 아닌 문자열이다. \n",
    "\n",
    "여러분은 입력으로 주어진 괄호 문자열이 VPS 인지 아닌지를 판단해서 그 결과를 YES 와 NO 로 나타내어야 한다. \n",
    "\n",
    "입력\n",
    "입력 데이터는 표준 입력을 사용한다. 입력은 T개의 테스트 데이터로 주어진다. 입력의 첫 번째 줄에는 입력 데이터의 수를 나타내는 정수 T가 주어진다. 각 테스트 데이터의 첫째 줄에는 괄호 문자열이 한 줄에 주어진다. 하나의 괄호 문자열의 길이는 2 이상 50 이하이다. \n",
    "\n",
    "출력\n",
    "출력은 표준 출력을 사용한다. 만일 입력 괄호 문자열이 올바른 괄호 문자열(VPS)이면 “YES”, 아니면 “NO”를 한 줄에 하나씩 차례대로 출력해야 한다. "
   ]
  },
  {
   "cell_type": "code",
   "execution_count": 2,
   "metadata": {},
   "outputs": [
    {
     "name": "stdout",
     "output_type": "stream",
     "text": [
      "())\n",
      "['(']\n",
      "['(', ')', ')']\n",
      "NO\n"
     ]
    }
   ],
   "source": [
    "stack = []\n",
    "\n",
    "input_ps = list(input())\n",
    "\n",
    "def hamsu(input_ps):\n",
    "    for idx, i in enumerate(input_ps):\n",
    "        if len(stack) !=0:\n",
    "            print(stack)\n",
    "            stack.append(i)\n",
    "            if input_ps[idx-1] == input_ps[idx]:\n",
    "                stack.pop()\n",
    "                stack.pop()\n",
    "            elif input_ps[idx-1] != input_ps[idx]:\n",
    "                stack.append(i)\n",
    "        else:\n",
    "            stack.append(i)\n",
    "    if len(stack) == 0:\n",
    "        print('YES')\n",
    "    else:\n",
    "        print('NO')\n",
    "hamsu(input_ps)\n"
   ]
  },
  {
   "cell_type": "code",
   "execution_count": 3,
   "metadata": {},
   "outputs": [
    {
     "name": "stdout",
     "output_type": "stream",
     "text": [
      "2\n",
      "()\n",
      "YES\n",
      "(()))\n",
      "NO\n"
     ]
    }
   ],
   "source": [
    "stack = []\n",
    "\n",
    "input_num = int(input())\n",
    "\n",
    "\n",
    "for i in range(input_num):\n",
    "    input_ps = list(input())\n",
    "    for i in input_ps:\n",
    "        if i == '(':\n",
    "            stack.append(i)\n",
    "        elif i == ')':\n",
    "            if len(stack) == 0 :\n",
    "                stack.append(i)\n",
    "                break\n",
    "            else:\n",
    "                stack.pop()\n",
    "\n",
    "    if len(stack) == 0:\n",
    "        print('YES')\n",
    "    else:\n",
    "        print('NO')\n",
    "        stack = []\n",
    "    "
   ]
  },
  {
   "cell_type": "markdown",
   "metadata": {},
   "source": [
    "### - 쇠막대기\n",
    "\n",
    "여러 개의 쇠막대기를 레이저로 절단하려고 한다. 효율적인 작업을 위해서 쇠막대기를 아래에서 위로 겹쳐 놓고, 레이저를 위에서 수직으로 발사하여 쇠막대기들을 자른다. 쇠막대기와 레이저의 배치는 다음 조건을 만족한다.\n",
    "\n",
    "쇠막대기는 자신보다 긴 쇠막대기 위에만 놓일 수 있다. - 쇠막대기를 다른 쇠막대기 위에 놓는 경우 완전히 포함되도록 놓되, 끝점은 겹치지 않도록 놓는다.\n",
    "각 쇠막대기를 자르는 레이저는 적어도 하나 존재한다.\n",
    "레이저는 어떤 쇠막대기의 양 끝점과도 겹치지 않는다. \n",
    "아래 그림은 위 조건을 만족하는 예를 보여준다. 수평으로 그려진 굵은 실선은 쇠막대기이고, 점은 레이저의 위치, 수직으로 그려진 점선 화살표는 레이저의 발사 방향이다.\n",
    "\n",
    "\n",
    "\n",
    "이러한 레이저와 쇠막대기의 배치는 다음과 같이 괄호를 이용하여 왼쪽부터 순서대로 표현할 수 있다.\n",
    "\n",
    "레이저는 여는 괄호와 닫는 괄호의 인접한 쌍 ‘( ) ’ 으로 표현된다. 또한, 모든 ‘( ) ’는 반드시 레이저를 표현한다.\n",
    "쇠막대기의 왼쪽 끝은 여는 괄호 ‘ ( ’ 로, 오른쪽 끝은 닫힌 괄호 ‘) ’ 로 표현된다. \n",
    "위 예의 괄호 표현은 그림 위에 주어져 있다.\n",
    "\n",
    "쇠막대기는 레이저에 의해 몇 개의 조각으로 잘려지는데, 위 예에서 가장 위에 있는 두 개의 쇠막대기는 각각 3개와 2개의 조각으로 잘려지고, 이와 같은 방식으로 주어진 쇠막대기들은 총 17개의 조각으로 잘려진다. \n",
    "\n",
    "쇠막대기와 레이저의 배치를 나타내는 괄호 표현이 주어졌을 때, 잘려진 쇠막대기 조각의 총 개수를 구하는 프로그램을 작성하시오."
   ]
  },
  {
   "cell_type": "code",
   "execution_count": null,
   "metadata": {},
   "outputs": [],
   "source": [
    "input_ps = list(input())\n",
    "\n",
    "# (면 막대기 시작\n",
    "# () 면 레이저\n",
    "\n",
    "for i in input_ps:\n",
    "    if i == '(':\n",
    "        \n",
    "    \n",
    "    "
   ]
  },
  {
   "cell_type": "markdown",
   "metadata": {},
   "source": [
    "### - 에디터"
   ]
  },
  {
   "cell_type": "markdown",
   "metadata": {},
   "source": [
    "### - 큐\n",
    "\n",
    "정수를 저장하는 큐를 구현한 다음, 입력으로 주어지는 명령을 처리하는 프로그램을 작성하시오.\n",
    "\n",
    "명령은 총 여섯 가지이다.\n",
    "\n",
    " push X: 정수 X를 큐에 넣는 연산이다.\n",
    " \n",
    " pop: 큐에서 가장 앞에 있는 정수를 빼고, 그 수를 출력한다. 만약 큐에 들어있는 정수가 없는 경우에는 -1을 출력한다.\n",
    " \n",
    " size: 큐에 들어있는 정수의 개수를 출력한다.\n",
    " \n",
    " empty: 큐가 비어있으면 1, 아니면 0을 출력한다.\n",
    " \n",
    " front: 큐의 가장 앞에 있는 정수를 출력한다. 만약 큐에 들어있는 정수가 없는 경우에는 -1을 출력한다.\n",
    " \n",
    " back: 큐의 가장 뒤에 있는 정수를 출력한다. 만약 큐에 들어있는 정수가 없는 경우에는 -1을 출력한다."
   ]
  },
  {
   "cell_type": "code",
   "execution_count": null,
   "metadata": {},
   "outputs": [
    {
     "name": "stdout",
     "output_type": "stream",
     "text": [
      "15\n",
      "push 1\n",
      "dd\n"
     ]
    }
   ],
   "source": [
    "input_command_num = int(input())\n",
    "\n",
    "#input_command = input()\n",
    "\n",
    "queue = []\n",
    "\n",
    "for i in range(input_command_num):\n",
    "    input_command = input()\n",
    "    if input_command.startswith('push'):\n",
    "        \n",
    "        a,b = input_command.split()\n",
    "        queue.append(int(b))\n",
    "    elif input_command == 'pop':\n",
    "        if len(queue) == 0 :\n",
    "            print(-1)\n",
    "        else:\n",
    "            print(queue[0])\n",
    "            queue.remove(queue[0])\n",
    "    elif input_command == 'size':\n",
    "        print(len(queue))\n",
    "\n",
    "    elif input_command == 'empty':\n",
    "        if len(queue) == 0 :\n",
    "            print(1)\n",
    "        else:\n",
    "            print(0)\n",
    "    elif input_command == 'front':\n",
    "        if len(queue) == 0 :\n",
    "            print(-1)\n",
    "        else:\n",
    "            print(queue[0])\n",
    "\n",
    "    elif input_command == 'back':\n",
    "        if len(queue) == 0 :\n",
    "            print(-1)\n",
    "        else:\n",
    "            print(queue[len(queue)-1])\n",
    "    \n",
    "        \n",
    "    \n",
    "\n"
   ]
  },
  {
   "cell_type": "code",
   "execution_count": 6,
   "metadata": {},
   "outputs": [
    {
     "name": "stdout",
     "output_type": "stream",
     "text": [
      "None\n"
     ]
    },
    {
     "data": {
      "text/plain": [
       "[2, 3]"
      ]
     },
     "execution_count": 6,
     "metadata": {},
     "output_type": "execute_result"
    }
   ],
   "source": [
    "a = [1,2,3]\n",
    "print(a.remove(a[0]))\n",
    "a"
   ]
  },
  {
   "cell_type": "markdown",
   "metadata": {},
   "source": [
    "### - 조세퍼스 문제"
   ]
  },
  {
   "cell_type": "code",
   "execution_count": 5,
   "metadata": {},
   "outputs": [],
   "source": [
    "a= list(range(1,8))\n",
    "\n",
    "def pop(lis, cur_point, delta):\n",
    "    len(lis)\n",
    "    if cur_point + delt<len(lis):\n",
    "        "
   ]
  },
  {
   "cell_type": "code",
   "execution_count": 6,
   "metadata": {},
   "outputs": [
    {
     "data": {
      "text/plain": [
       "[1, 2, 4, 5, 6, 7]"
      ]
     },
     "execution_count": 6,
     "metadata": {},
     "output_type": "execute_result"
    }
   ],
   "source": [
    "a.(3)\n",
    "a\n",
    "a.remove("
   ]
  },
  {
   "cell_type": "markdown",
   "metadata": {},
   "source": [
    "### - 알파벳 개수"
   ]
  },
  {
   "cell_type": "markdown",
   "metadata": {},
   "source": [
    "### - 알파벳 찾기"
   ]
  },
  {
   "cell_type": "markdown",
   "metadata": {},
   "source": [
    "### - 문자열 분석"
   ]
  },
  {
   "cell_type": "markdown",
   "metadata": {},
   "source": [
    "### - 단어 길이 재기"
   ]
  },
  {
   "cell_type": "markdown",
   "metadata": {},
   "source": [
    "### - ROT13"
   ]
  },
  {
   "cell_type": "markdown",
   "metadata": {},
   "source": [
    "### - 네 수"
   ]
  },
  {
   "cell_type": "markdown",
   "metadata": {},
   "source": [
    "### - 접미사 배열"
   ]
  },
  {
   "cell_type": "code",
   "execution_count": null,
   "metadata": {},
   "outputs": [],
   "source": []
  },
  {
   "cell_type": "code",
   "execution_count": null,
   "metadata": {},
   "outputs": [],
   "source": []
  },
  {
   "cell_type": "code",
   "execution_count": null,
   "metadata": {},
   "outputs": [],
   "source": []
  }
 ],
 "metadata": {
  "kernelspec": {
   "display_name": "Python 3",
   "language": "python",
   "name": "python3"
  },
  "language_info": {
   "codemirror_mode": {
    "name": "ipython",
    "version": 3
   },
   "file_extension": ".py",
   "mimetype": "text/x-python",
   "name": "python",
   "nbconvert_exporter": "python",
   "pygments_lexer": "ipython3",
   "version": "3.7.3"
  }
 },
 "nbformat": 4,
 "nbformat_minor": 2
}
