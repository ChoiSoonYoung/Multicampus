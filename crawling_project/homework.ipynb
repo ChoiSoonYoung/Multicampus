{
 "cells": [
  {
   "cell_type": "code",
   "execution_count": 25,
   "metadata": {},
   "outputs": [],
   "source": [
    "import requests\n",
    "from bs4 import BeautifulSoup"
   ]
  },
  {
   "cell_type": "code",
   "execution_count": 26,
   "metadata": {},
   "outputs": [],
   "source": [
    "for i in range(1,11):\n",
    "    \n",
    "    start_var = 1\n",
    "    naver_search_url = 'https://search.naver.com/search.naver'\n",
    "    qeury = '무역전쟁'\n",
    "    \n",
    "    params = {\n",
    "        'where' : 'post',\n",
    "        'query' : qeury,\n",
    "        'start' : (i * 10) + 1\n",
    "    }\n",
    "    resp = requests.get(naver_search_url, params= params)\n",
    "    soup = BeautifulSoup(resp.content, 'html.parser')"
   ]
  },
  {
   "cell_type": "code",
   "execution_count": 40,
   "metadata": {},
   "outputs": [],
   "source": [
    "li_tags = soup.find('ul', class_='type01').find('li')"
   ]
  },
  {
   "cell_type": "code",
   "execution_count": 45,
   "metadata": {},
   "outputs": [
    {
     "data": {
      "text/plain": [
       "[-1,\n",
       " <a class=\"sp_thmb thmb80\" href=\"https://woojin756.blog.me/221549241129\" onclick=\"return goOtherCR(this, 'a=blg*i.img&amp;r=101&amp;i=90000003_0000000000000033955D2329&amp;u='+urlencode(this.href))\" target=\"_blank\"><img alt=\"190528 무역전쟁 장기\" class=\"sh_blog_thumbnail\" onerror=\"this.parentNode.parentNode.style.display='none';\" onload=\"onThumbnailLoad(this,'https://search.pstatic.net/common/?src=http%3A%2F%2Fblogfiles.naver.net%2FMjAxOTA1MjlfNTEg%2FMDAxNTU5MDg5ODA4MjQ4.7cfWQ8OAd2UW77CeVOztHO_iGbTdD21fUtpcSbwj7skg.IPyIC0iikPlhFeQyQ5qli7a8fvM6YiGtUI9aFWKMLyIg.PNG.woojin756%2F190528.png%231211x694&amp;type=m80_80');\" src=\"https://search.pstatic.net/common/?src=http%3A%2F%2Fblogfiles.naver.net%2FMjAxOTA1MjlfNTEg%2FMDAxNTU5MDg5ODA4MjQ4.7cfWQ8OAd2UW77CeVOztHO_iGbTdD21fUtpcSbwj7skg.IPyIC0iikPlhFeQyQ5qli7a8fvM6YiGtUI9aFWKMLyIg.PNG.woojin756%2F190528.png%231211x694&amp;type=m80_80\"/><span class=\"thmb_v\"></span><span class=\"mask\"></span> </a>,\n",
       " -1,\n",
       " <a class=\"sh_blog_title _sp_each_url _sp_each_title\" href=\"https://woojin756.blog.me/221549241129\" onclick=\"return goOtherCR(this, 'a=blg*i.tit&amp;r=101&amp;i=90000003_0000000000000033955D2329&amp;u='+urlencode(this.href))\" target=\"_blank\" title=\"190528 무역전쟁 장기화 우려에 안전자산 선호\">190528 <strong class=\"hl\">무역전쟁</strong> 장기화 우려에 안전자산 선호</a>,\n",
       " -1]"
      ]
     },
     "execution_count": 45,
     "metadata": {},
     "output_type": "execute_result"
    }
   ],
   "source": [
    "new_list = []\n",
    "for tt in li_tags:\n",
    "    title = tt.find('a')\n",
    "    new_list.append(title)\n",
    "new_list"
   ]
  },
  {
   "cell_type": "code",
   "execution_count": 28,
   "metadata": {},
   "outputs": [
    {
     "data": {
      "text/plain": [
       "<a class=\"sh_blog_title _sp_each_url _sp_each_title\" href=\"https://woojin756.blog.me/221549241129\" onclick=\"return goOtherCR(this, 'a=blg*i.tit&amp;r=101&amp;i=90000003_0000000000000033955D2329&amp;u='+urlencode(this.href))\" target=\"_blank\" title=\"190528 무역전쟁 장기화 우려에 안전자산 선호\">190528 <strong class=\"hl\">무역전쟁</strong> 장기화 우려에 안전자산 선호</a>"
      ]
     },
     "execution_count": 28,
     "metadata": {},
     "output_type": "execute_result"
    }
   ],
   "source": [
    "ul_contents.find('a', class_=\"sh_blog_title _sp_each_url _sp_each_title\")"
   ]
  },
  {
   "cell_type": "code",
   "execution_count": null,
   "metadata": {},
   "outputs": [],
   "source": [
    "li_tags = news_topic.contents\n",
    "new_list = []\n",
    "for t in li_tags:\n",
    "    title = t.find('span', class_=\"tit\").text\n",
    "    new_list.append(title)\n",
    "new_list"
   ]
  },
  {
   "cell_type": "code",
   "execution_count": null,
   "metadata": {},
   "outputs": [],
   "source": []
  }
 ],
 "metadata": {
  "kernelspec": {
   "display_name": "Python 3",
   "language": "python",
   "name": "python3"
  },
  "language_info": {
   "codemirror_mode": {
    "name": "ipython",
    "version": 3
   },
   "file_extension": ".py",
   "mimetype": "text/x-python",
   "name": "python",
   "nbconvert_exporter": "python",
   "pygments_lexer": "ipython3",
   "version": "3.7.3"
  }
 },
 "nbformat": 4,
 "nbformat_minor": 2
}
