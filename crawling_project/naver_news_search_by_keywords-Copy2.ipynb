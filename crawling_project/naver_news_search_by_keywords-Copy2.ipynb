{
 "cells": [
  {
   "cell_type": "code",
   "execution_count": 3,
   "metadata": {},
   "outputs": [],
   "source": [
    "\n",
    "import requests\n",
    "from bs4 import BeautifulSoup\n"
   ]
  },
  {
   "cell_type": "code",
   "execution_count": 4,
   "metadata": {},
   "outputs": [],
   "source": [
    "for x in range(1,101,10):\n",
    "    naver_search_url = 'https://search.naver.com/search.naver'\n",
    "    qeury = '무역전쟁'\n",
    "    params = {\n",
    "        'where' : 'news',\n",
    "        'query' : qeury,\n",
    "        'start' : x\n",
    "}"
   ]
  },
  {
   "cell_type": "code",
   "execution_count": 5,
   "metadata": {},
   "outputs": [
    {
     "data": {
      "text/plain": [
       "200"
      ]
     },
     "execution_count": 5,
     "metadata": {},
     "output_type": "execute_result"
    }
   ],
   "source": [
    "resp = requests.get(naver_search_url, params = params)\n",
    "resp.status_code"
   ]
  },
  {
   "cell_type": "markdown",
   "metadata": {},
   "source": [
    "## soup 만들기\n"
   ]
  },
  {
   "cell_type": "code",
   "execution_count": 6,
   "metadata": {},
   "outputs": [],
   "source": [
    "soup = BeautifulSoup(resp.content, 'html.parser')"
   ]
  },
  {
   "cell_type": "code",
   "execution_count": 7,
   "metadata": {},
   "outputs": [],
   "source": [
    "ul_contents= soup.find('ul', class_='type01')"
   ]
  },
  {
   "cell_type": "code",
   "execution_count": 8,
   "metadata": {},
   "outputs": [
    {
     "data": {
      "text/plain": [
       "10"
      ]
     },
     "execution_count": 8,
     "metadata": {},
     "output_type": "execute_result"
    }
   ],
   "source": [
    "new_ul =[]\n",
    "for content in ul_contents.contents:\n",
    "    if not str(content).strip():\n",
    "        continue\n",
    "    new_ul.append(content)\n",
    "\n",
    "len(new_ul)"
   ]
  },
  {
   "cell_type": "code",
   "execution_count": 14,
   "metadata": {},
   "outputs": [],
   "source": [
    "#제목이랑 링크만 가져오기 ul -> li -> dl -> dt -> a 제목이랑 링크까지 \n",
    "news_list = []\n",
    "\n",
    "for li in new_ul:\n",
    "    news_dict = {}\n",
    "    a_tag = li .find('dl').find('dt').find('a')\n",
    "    #print(a_tag)\n",
    "    news_dict['link'] = a_tag['href']\n",
    "    \n",
    "    detail_resp = requests.get(news_dict['link'])\n",
    "    detail_soup = BeautifulSoup(detail_resp.content,'html.parser')\n",
    "    \n",
    "    news_dict['title'] = a_tag.text\n",
    "    news_list.append(news_dict)\n",
    "    #print(news_dict)\n",
    "    \n",
    "\n",
    "\n",
    "\n"
   ]
  },
  {
   "cell_type": "code",
   "execution_count": 19,
   "metadata": {},
   "outputs": [
    {
     "name": "stdout",
     "output_type": "stream",
     "text": [
      "[{'link': 'https://www.hankyung.com/article/2019060288841',\n",
      "  'title': '상하이증시, 무역전쟁 확전 속 차이신 제조업 PMI 주목'},\n",
      " {'link': 'https://www.sedaily.com/NewsView/1VK9GKRPWJ',\n",
      "  'title': \"對美무역전쟁 대비 포석...'몸집' 키우는 中 철강사\"},\n",
      " {'link': 'http://yna.kr/AKR20190602034900083?did=1195m',\n",
      "  'title': '인민일보 \"中 국제서비스무역박람회 계약 1천억달러 넘어\"'},\n",
      " {'link': 'http://yna.kr/AKR20190601028900008?did=1195m',\n",
      "  'title': '[증시풍향계] G2무역전쟁과 美연준 통화정책 기조 주목'},\n",
      " {'link': 'http://news1.kr/articles/?3636091',\n",
      "  'title': '中국방 \"美와 무역전쟁 준비돼 있지만 협상도 열려있어\"'},\n",
      " {'link': 'http://www.ohmynews.com/NWS_Web/View/at_pg.aspx?CNTN_CD=A0002542460&CMPT_CD=P0010&utm_source=naver&utm_medium=newsearch&utm_campaign=naver_news',\n",
      "  'title': \"평창에서 촉발된 '한일 딸기전쟁', 막전막후\"},\n",
      " {'link': 'http://news.mt.co.kr/mtview.php?no=2019060214504339239',\n",
      "  'title': \"국제방송 댓글전쟁으로 번진 '화웨이' 사태\"},\n",
      " {'link': 'http://www.g-enews.com/ko-kr/news/article/news_all/20190602091246321450cb531085_1/article.html',\n",
      "  'title': '반도체 부진, 무역전쟁 비상경영 나선 이재용, 주말 사장단 긴급소집'},\n",
      " {'link': 'http://biz.chosun.com/site/data/html_dir/2019/05/31/2019053100978.html',\n",
      "  'title': '폴 로머 “미·중 무역전쟁, 앞으로 5~10년간 세계 경제에 악영향”'},\n",
      " {'link': 'http://www.mediapen.com/news/view/438109',\n",
      "  'title': \"6월 미중 무역분쟁 '최고조' 달할 전망\"}]\n"
     ]
    }
   ],
   "source": [
    "from pprint import pprint\n",
    "pprint(news_list)"
   ]
  },
  {
   "cell_type": "code",
   "execution_count": null,
   "metadata": {},
   "outputs": [],
   "source": []
  }
 ],
 "metadata": {
  "kernelspec": {
   "display_name": "Python 3",
   "language": "python",
   "name": "python3"
  },
  "language_info": {
   "codemirror_mode": {
    "name": "ipython",
    "version": 3
   },
   "file_extension": ".py",
   "mimetype": "text/x-python",
   "name": "python",
   "nbconvert_exporter": "python",
   "pygments_lexer": "ipython3",
   "version": "3.7.3"
  }
 },
 "nbformat": 4,
 "nbformat_minor": 2
}
