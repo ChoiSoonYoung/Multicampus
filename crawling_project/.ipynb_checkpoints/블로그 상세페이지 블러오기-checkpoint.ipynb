{
 "cells": [
  {
   "cell_type": "code",
   "execution_count": 1,
   "metadata": {},
   "outputs": [],
   "source": [
    "import requests\n",
    "from bs4 import BeautifulSoup"
   ]
  },
  {
   "cell_type": "code",
   "execution_count": 16,
   "metadata": {},
   "outputs": [],
   "source": [
    "time_list = ['240',]\n",
    "\n",
    "bitcoin_url = \"https://crix-api-cdn.upbit.com/v1/crix/trades/days\"\n",
    "#https://crix-api-cdn.upbit.com/v1/crix/trades/days?code=CRIX.UPBIT.KRW-BTC&count=200\n",
    "#/days?code=CRIX.UPBIT.KRW-BTC&count=200\n",
    "for time in time_list:\n",
    "    url_list.append()\n",
    "\n",
    "#https://crix-api-cdn.upbit.com/v1/crix/candles/minutes/240?code=CRIX.UPBIT.KRW-BTC&count=200&ciqrandom=1559615936764\n",
    "#시간이 바뀜\n",
    "count = 200\n",
    "code = 'CRIX.UPBIT.KRW-BTC'\n",
    "params = {\n",
    "    'count' : count,\n",
    "    'code' : code        \n",
    "}"
   ]
  },
  {
   "cell_type": "code",
   "execution_count": 17,
   "metadata": {},
   "outputs": [],
   "source": [
    "resp = requests.get(bitcoin_url, params = params)\n",
    "json_file = resp.json()"
   ]
  },
  {
   "cell_type": "code",
   "execution_count": 18,
   "metadata": {},
   "outputs": [],
   "source": [
    "import pandas as pd\n",
    "bitcoin_df = pd.DataFrame(json_file)"
   ]
  },
  {
   "cell_type": "code",
   "execution_count": 20,
   "metadata": {},
   "outputs": [],
   "source": [
    "bitcoin_df.to_csv('bitcoin.csv')"
   ]
  },
  {
   "cell_type": "code",
   "execution_count": null,
   "metadata": {},
   "outputs": [],
   "source": []
  }
 ],
 "metadata": {
  "kernelspec": {
   "display_name": "Python 3",
   "language": "python",
   "name": "python3"
  },
  "language_info": {
   "codemirror_mode": {
    "name": "ipython",
    "version": 3
   },
   "file_extension": ".py",
   "mimetype": "text/x-python",
   "name": "python",
   "nbconvert_exporter": "python",
   "pygments_lexer": "ipython3",
   "version": "3.7.3"
  }
 },
 "nbformat": 4,
 "nbformat_minor": 2
}
