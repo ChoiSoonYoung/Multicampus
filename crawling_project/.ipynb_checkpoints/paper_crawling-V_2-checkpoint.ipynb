{
 "cells": [
  {
   "cell_type": "code",
   "execution_count": 82,
   "metadata": {},
   "outputs": [
    {
     "data": {
      "text/plain": [
       "200"
      ]
     },
     "execution_count": 82,
     "metadata": {},
     "output_type": "execute_result"
    }
   ],
   "source": [
    "from pprint import pprint \n",
    "import requests\n",
    "from bs4 import BeautifulSoup\n",
    "\n",
    "search_url = 'https://scholar.google.co.kr/scholar'\n",
    "q = '워드임베딩'\n",
    "start = 0\n",
    "hl = 'ko'\n",
    "#페이지 넘어갈때마다 +10\n",
    "params = {\n",
    "    'q' : q,\n",
    "    'start' : start,\n",
    "    'hl' : hl\n",
    "}\n",
    "\n",
    "resp = requests.get(search_url, params = params)\n",
    "resp.status_code"
   ]
  },
  {
   "cell_type": "code",
   "execution_count": 83,
   "metadata": {},
   "outputs": [],
   "source": [
    "soup = BeautifulSoup(resp.content, 'html.parser')"
   ]
  },
  {
   "cell_type": "code",
   "execution_count": 96,
   "metadata": {},
   "outputs": [
    {
     "name": "stdout",
     "output_type": "stream",
     "text": [
      "10\n",
      "Neural word embedding as implicit matrix factorization\n",
      "http://papers.nips.cc/paper/5477-neural-word-embedding-as-implicit-matrix-factorization\n",
      "Neural word embedding as implicit matrix factorization\n",
      "[PDF][PDF] Learning sentiment-specific word embedding for twitter sentiment classification\n",
      "https://www.aclweb.org/anthology/P14-1146\n",
      "[PDF][PDF] Learning sentiment-specific word embedding for twitter sentiment classification\n",
      "word2vec Explained: deriving Mikolov et al.'s negative-sampling word-embedding method\n",
      "https://arxiv.org/abs/1402.3722\n",
      "word2vec Explained: deriving Mikolov et al.'s negative-sampling word-embedding method\n",
      "Knowledge-powered deep learning for word embedding\n",
      "https://link.springer.com/chapter/10.1007/978-3-662-44848-9_9\n",
      "Knowledge-powered deep learning for word embedding\n",
      "Line: Large-scale information network embedding\n",
      "https://dl.acm.org/citation.cfm?id=2741093\n",
      "Line: Large-scale information network embedding\n",
      "Pharmacovigilance from social media: mining adverse drug reaction mentions using sequence labeling with word embedding cluster features\n",
      "https://academic.oup.com/jamia/article-abstract/22/3/671/776531\n",
      "Pharmacovigilance from social media: mining adverse drug reaction mentions using sequence labeling with word embedding cluster features\n",
      "Document embedding with paragraph vectors\n",
      "https://arxiv.org/abs/1507.07998\n",
      "Document embedding with paragraph vectors\n",
      "[PDF][PDF] Dependency-based word embeddings\n",
      "https://www.aclweb.org/anthology/P14-2050\n",
      "[PDF][PDF] Dependency-based word embeddings\n",
      "[PDF][PDF] Learning continuous word embedding with metadata for question retrieval in community question answering\n",
      "https://www.aclweb.org/anthology/P15-1025\n",
      "[PDF][PDF] Learning continuous word embedding with metadata for question retrieval in community question answering\n",
      "Semantic expansion using word embedding clustering and convolutional neural network for improving short text classification\n",
      "https://www.sciencedirect.com/science/article/pii/S0925231215014502\n",
      "Semantic expansion using word embedding clustering and convolutional neural network for improving short text classification\n",
      "[{'title': 'Neural word embedding as implicit matrix factorization'}, {'title': '[PDF][PDF] Learning sentiment-specific word embedding for twitter sentiment classification'}, {'title': \"word2vec Explained: deriving Mikolov et al.'s negative-sampling word-embedding method\"}, {'title': 'Knowledge-powered deep learning for word embedding'}, {'title': 'Line: Large-scale information network embedding'}, {'title': 'Pharmacovigilance from social media: mining adverse drug reaction mentions using sequence labeling with word embedding cluster features'}, {'title': 'Document embedding with paragraph vectors'}, {'title': '[PDF][PDF] Dependency-based word embeddings'}, {'title': '[PDF][PDF] Learning continuous word embedding with metadata for question retrieval in community question answering'}, {'title': 'Semantic expansion using word embedding clustering and convolutional neural network for improving short text classification'}]\n"
     ]
    }
   ],
   "source": [
    "raw_paper_list_box = soup.find('div',id=\"gs_res_ccl_mid\")\n",
    "print(len(raw_paper_list))\n",
    "paper_list = []\n",
    "\n",
    "raw_paper_list = raw_paper_list_box.find_all('div', class_=\"gs_r gs_or gs_scl\")\n",
    "\n",
    "for paper in raw_paper_list:\n",
    "    paper_dict = {}\n",
    "    title = paper.find('h3',class_= 'gs_rt')\n",
    "#     a_tag = paper.find('a')\n",
    "    \n",
    "    a_tag = paper.find(class_=\"gs_ri\").find('a')\n",
    "    link = a_tag['href']\n",
    "    print(title.text)\n",
    "    print(link)\n",
    "    paper_dict['title']= title.text\n",
    "    paper_dict['link']= title.text\n",
    "    print(title.text)\n",
    "    \n",
    "    paper_list.append(paper_dict)\n",
    "#     break\n",
    "#print(len(paper_list))\n",
    "print(paper_list)"
   ]
  },
  {
   "cell_type": "code",
   "execution_count": 100,
   "metadata": {},
   "outputs": [
    {
     "data": {
      "text/plain": [
       "{'title': '[PDF][PDF] Learning sentiment-specific word embedding for twitter sentiment classification'}"
      ]
     },
     "execution_count": 100,
     "metadata": {},
     "output_type": "execute_result"
    }
   ],
   "source": [
    "paper_list[1]\n"
   ]
  },
  {
   "cell_type": "code",
   "execution_count": 97,
   "metadata": {},
   "outputs": [
    {
     "data": {
      "text/plain": [
       "ParseResult(scheme='https', netloc='www.sciencedirect.com', path='/science/article/pii/S0925231215014502', params='', query='', fragment='')"
      ]
     },
     "execution_count": 97,
     "metadata": {},
     "output_type": "execute_result"
    }
   ],
   "source": [
    "import urllib\n",
    "\n",
    "parse_link = urllib.parse.urlparse(link)\n",
    "parse_link"
   ]
  },
  {
   "cell_type": "code",
   "execution_count": null,
   "metadata": {},
   "outputs": [],
   "source": [
    "www.sciencedirect.com/science/article/pii/S0925231215014502"
   ]
  }
 ],
 "metadata": {
  "kernelspec": {
   "display_name": "Python 3",
   "language": "python",
   "name": "python3"
  },
  "language_info": {
   "codemirror_mode": {
    "name": "ipython",
    "version": 3
   },
   "file_extension": ".py",
   "mimetype": "text/x-python",
   "name": "python",
   "nbconvert_exporter": "python",
   "pygments_lexer": "ipython3",
   "version": "3.7.3"
  }
 },
 "nbformat": 4,
 "nbformat_minor": 2
}
