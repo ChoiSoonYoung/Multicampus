{
 "cells": [
  {
   "cell_type": "markdown",
   "metadata": {},
   "source": [
    "# 05. 객체와 클래스\n",
    "## 연습문제1\n",
    "\n",
    "### Car 클래스를 만드세요\n",
    "\n",
    "객체 생성시 차이름, 배기량, 생산년도 입력받으세요\n",
    "\n",
    "객체 생성시 등록된 차이름, 배기량, 생산년도는 직접 변경하지 못합니다\n",
    "\n",
    "차 이름을 변경하는 함수를 만드세요\n",
    "\n",
    "     배기량에 따라 1000CC 이하 소형\n",
    "     1000CC 이상 2000CC 이하 중형\n",
    "     2000CC 이상 대형을 출력하는 함수를 만드세요\n",
    "\n",
    "객체 생성시마다 등록된 차량 갯수를 기록해주세요\n",
    "\n",
    "총 등록된 차량개수를 출력하는 클래스 함수를 만드세요\n",
    "\n"
   ]
  },
  {
   "cell_type": "code",
   "execution_count": null,
   "metadata": {},
   "outputs": [],
   "source": []
  }
 ],
 "metadata": {
  "kernelspec": {
   "display_name": "Python 3",
   "language": "python",
   "name": "python3"
  },
  "language_info": {
   "codemirror_mode": {
    "name": "ipython",
    "version": 3
   },
   "file_extension": ".py",
   "mimetype": "text/x-python",
   "name": "python",
   "nbconvert_exporter": "python",
   "pygments_lexer": "ipython3",
   "version": "3.7.3"
  }
 },
 "nbformat": 4,
 "nbformat_minor": 2
}
