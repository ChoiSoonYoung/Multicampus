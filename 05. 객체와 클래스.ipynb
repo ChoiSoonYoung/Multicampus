{
 "cells": [
  {
   "cell_type": "markdown",
   "metadata": {},
   "source": [
    "# 05. 객체와 클래스\n",
    "## 연습문제1\n",
    "\n",
    "### Car 클래스를 만드세요\n",
    "\n",
    "객체 생성시 차이름, 배기량, 생산년도 입력받으세요\n",
    "\n",
    "객체 생성시 등록된 차이름, 배기량, 생산년도는 직접 변경하지 못합니다\n",
    "\n",
    "차 이름을 변경하는 함수를 만드세요\n",
    "\n",
    "     배기량에 따라 1000CC 이하 소형\n",
    "     1000CC 이상 2000CC 이하 중형\n",
    "     2000CC 이상 대형을 출력하는 함수를 만드세요\n",
    "\n",
    "객체 생성시마다 등록된 차량 갯수를 기록해주세요\n",
    "\n",
    "총 등록된 차량개수를 출력하는 클래스 함수를 만드세요\n",
    "\n"
   ]
  },
  {
   "cell_type": "code",
   "execution_count": 26,
   "metadata": {},
   "outputs": [
    {
     "name": "stdout",
     "output_type": "stream",
     "text": [
      "차 대수 :  2\n",
      "이름 : 차차, 배기량 : 1200, 생산년도 : 1992\n",
      "중형\n",
      "대형\n",
      "소형\n",
      "차 대수 :  3\n",
      "이름 : 대형, 배기량 : 2100, 생산년도 : 1992\n",
      "이름 : 소형, 배기량 : 300, 생산년도 : 1991\n"
     ]
    }
   ],
   "source": [
    "class car:\n",
    "    car_num = 0\n",
    "    def __init__(self, name, quantity, year):\n",
    "        self.__name = name\n",
    "        self.__quantity = quantity\n",
    "        self.__year = year\n",
    "        car.car_num += 1\n",
    "    def change_name(self):\n",
    "        if self.__quantity <= 1000 :\n",
    "            self.__name = '소형'\n",
    "        elif self.__quantity >= 1000 and self.__quantity <= 2000 :\n",
    "            self.__name = '중형'\n",
    "        elif self.__quantity >= 2000 :\n",
    "            self.__name = '대형'\n",
    "        print(self.__name)\n",
    "    def print_info(self):\n",
    "        print('이름 : {0}, 배기량 : {1}, 생산년도 : {2}'.format(self.__name, self.__quantity, self.__year))\n",
    "    \n",
    "    def print_car_num(self):\n",
    "        print('차 대수 : ', car.car_num)\n",
    "    \n",
    "new_car_1 = car('차차', 1200, 1992)\n",
    "new_car_2 = car('차차차', 2100, 1992)\n",
    "\n",
    "new_car_2.print_car_num()\n",
    "new_car_1.print_info()\n",
    "new_car_3 = car('차차차차', 300, 1991)\n",
    "\n",
    "new_car_1.change_name()\n",
    "new_car_2.change_name()\n",
    "new_car_3.change_name()\n",
    "new_car_3.print_car_num()\n",
    "new_car_2.print_info()\n",
    "new_car_3.print_info()\n",
    "\n",
    "\n",
    "\n"
   ]
  },
  {
   "cell_type": "code",
   "execution_count": 30,
   "metadata": {},
   "outputs": [
    {
     "name": "stdout",
     "output_type": "stream",
     "text": [
      "차 대수 :  2\n",
      "이름 : 차차, 배기량 : 1200, 생산년도 : 1992\n",
      "중형\n",
      "대형\n",
      "소형\n",
      "차 대수 :  3\n",
      "이름 : 대형, 배기량 : 2100, 생산년도 : 1992\n",
      "이름 : 소형, 배기량 : 300, 생산년도 : 1991\n",
      "난 개자식이에요\n",
      "차 대수 :  4\n"
     ]
    }
   ],
   "source": [
    "class car:\n",
    "    car_num = 0\n",
    "    def __init__(self, name, quantity, year):\n",
    "        self.name = name\n",
    "        self.quantity = quantity\n",
    "        self.year = year\n",
    "        car.car_num += 1\n",
    "    def change_name(self):\n",
    "        if self.quantity <= 1000 :\n",
    "            self.name = '소형'\n",
    "        elif self.quantity >= 1000 and self.quantity <= 2000 :\n",
    "            self.name = '중형'\n",
    "        elif self.quantity >= 2000 :\n",
    "            self.name = '대형'\n",
    "        print(self.name)\n",
    "    def print_info(self):\n",
    "        print('이름 : {0}, 배기량 : {1}, 생산년도 : {2}'.format(self.name, self.quantity, self.year))\n",
    "    \n",
    "    def print_car_num(self):\n",
    "        print('차 대수 : ', car.car_num)\n",
    "    \n",
    "new_car_1 = car('차차', 1200, 1992)\n",
    "new_car_2 = car('차차차', 2100, 1992)\n",
    "\n",
    "new_car_2.print_car_num()\n",
    "new_car_1.print_info()\n",
    "new_car_3 = car('차차차차', 300, 1991)\n",
    "\n",
    "new_car_1.change_name()\n",
    "new_car_2.change_name()\n",
    "new_car_3.change_name()\n",
    "new_car_3.print_car_num()\n",
    "new_car_2.print_info()\n",
    "new_car_3.print_info()\n",
    "\n",
    "\n",
    "'''\n",
    "def __init__(self, rank, size, life, attack_type):\n",
    "        super(Goblin, self).__init__(rank, size, life)\n",
    "        self.attack_type = attack_type'''\n",
    "\n",
    "class cha(car):\n",
    "    def __init__(self,name, quantity, year):\n",
    "        super(cha, self).__init__(name, quantity, year)\n",
    "    def print_jasic(self):\n",
    "        print('난 개자식이에요')\n",
    "        \n",
    "honjong = cha('차차', 1200, 1992)\n",
    "honjong.print_jasic()\n",
    "honjong.print_car_num()"
   ]
  },
  {
   "cell_type": "code",
   "execution_count": 12,
   "metadata": {},
   "outputs": [
    {
     "name": "stdout",
     "output_type": "stream",
     "text": [
      "멍멍\n",
      "산책  10\n",
      "산책  20\n",
      "야옹\n",
      "산책  10\n"
     ]
    }
   ],
   "source": [
    "class Animal:\n",
    "    def __init__(self):\n",
    "        self.hungry = 0\n",
    "    def eat(self):\n",
    "        self.hungry -= 10\n",
    "        print(\"밥먹음 \", self.hungry)\n",
    "    def walk(self):\n",
    "        self.hungry += 10\n",
    "        print(\"산책 \", self.hungry)\n",
    "\n",
    "class Dog(Animal):\n",
    "    def __init__(self):\n",
    "        super().__init__()\n",
    "    def sound(self):\n",
    "        print(\"멍멍\")\n",
    "\n",
    "class Cat(Animal):\n",
    "    def __init__(self):\n",
    "        super().__init__()\n",
    "    def sound(self):\n",
    "        print(\"야옹\")\n",
    "\n",
    "dog = Dog()\n",
    "dog.sound()\n",
    "\n",
    "dog.walk()\n",
    "\n",
    "dog.walk()\n",
    "\n",
    "cat = Cat()\n",
    "cat.sound()\n",
    "cat.walk()\n"
   ]
  },
  {
   "cell_type": "code",
   "execution_count": 31,
   "metadata": {},
   "outputs": [
    {
     "data": {
      "text/plain": [
       "['__class__',\n",
       " '__delattr__',\n",
       " '__dict__',\n",
       " '__dir__',\n",
       " '__doc__',\n",
       " '__eq__',\n",
       " '__format__',\n",
       " '__ge__',\n",
       " '__getattribute__',\n",
       " '__gt__',\n",
       " '__hash__',\n",
       " '__init__',\n",
       " '__init_subclass__',\n",
       " '__le__',\n",
       " '__lt__',\n",
       " '__module__',\n",
       " '__ne__',\n",
       " '__new__',\n",
       " '__reduce__',\n",
       " '__reduce_ex__',\n",
       " '__repr__',\n",
       " '__setattr__',\n",
       " '__sizeof__',\n",
       " '__str__',\n",
       " '__subclasshook__',\n",
       " '__weakref__',\n",
       " 'car_num',\n",
       " 'change_name',\n",
       " 'print_car_num',\n",
       " 'print_info']"
      ]
     },
     "execution_count": 31,
     "metadata": {},
     "output_type": "execute_result"
    }
   ],
   "source": [
    "dir(car)"
   ]
  },
  {
   "cell_type": "code",
   "execution_count": null,
   "metadata": {},
   "outputs": [],
   "source": []
  }
 ],
 "metadata": {
  "kernelspec": {
   "display_name": "Python 3",
   "language": "python",
   "name": "python3"
  },
  "language_info": {
   "codemirror_mode": {
    "name": "ipython",
    "version": 3
   },
   "file_extension": ".py",
   "mimetype": "text/x-python",
   "name": "python",
   "nbconvert_exporter": "python",
   "pygments_lexer": "ipython3",
   "version": "3.7.3"
  }
 },
 "nbformat": 4,
 "nbformat_minor": 2
}
