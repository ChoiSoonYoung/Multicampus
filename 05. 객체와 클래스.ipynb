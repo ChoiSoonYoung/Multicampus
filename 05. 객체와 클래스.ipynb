{
 "cells": [
  {
   "cell_type": "markdown",
   "metadata": {},
   "source": [
    "# 05. 객체와 클래스\n",
    "## 연습문제1\n",
    "\n",
    "### Car 클래스를 만드세요\n",
    "\n",
    "객체 생성시 차이름, 배기량, 생산년도 입력받으세요\n",
    "\n",
    "객체 생성시 등록된 차이름, 배기량, 생산년도는 직접 변경하지 못합니다\n",
    "\n",
    "차 이름을 변경하는 함수를 만드세요\n",
    "\n",
    "     배기량에 따라 1000CC 이하 소형\n",
    "     1000CC 이상 2000CC 이하 중형\n",
    "     2000CC 이상 대형을 출력하는 함수를 만드세요\n",
    "\n",
    "객체 생성시마다 등록된 차량 갯수를 기록해주세요\n",
    "\n",
    "총 등록된 차량개수를 출력하는 클래스 함수를 만드세요\n",
    "\n"
   ]
  },
  {
   "cell_type": "code",
   "execution_count": 26,
   "metadata": {},
   "outputs": [
    {
     "name": "stdout",
     "output_type": "stream",
     "text": [
      "차 대수 :  2\n",
      "이름 : 차차, 배기량 : 1200, 생산년도 : 1992\n",
      "중형\n",
      "대형\n",
      "소형\n",
      "차 대수 :  3\n",
      "이름 : 대형, 배기량 : 2100, 생산년도 : 1992\n",
      "이름 : 소형, 배기량 : 300, 생산년도 : 1991\n"
     ]
    }
   ],
   "source": [
    "class car:\n",
    "    car_num = 0\n",
    "    def __init__(self, name, quantity, year):\n",
    "        self.__name = name\n",
    "        self.__quantity = quantity\n",
    "        self.__year = year\n",
    "        car.car_num += 1\n",
    "    def change_name(self):\n",
    "        if self.__quantity <= 1000 :\n",
    "            self.__name = '소형'\n",
    "        elif self.__quantity >= 1000 and self.__quantity <= 2000 :\n",
    "            self.__name = '중형'\n",
    "        elif self.__quantity >= 2000 :\n",
    "            self.__name = '대형'\n",
    "        print(self.__name)\n",
    "    def print_info(self):\n",
    "        print('이름 : {0}, 배기량 : {1}, 생산년도 : {2}'.format(self.__name, self.__quantity, self.__year))\n",
    "    \n",
    "    def print_car_num(self):\n",
    "        print('차 대수 : ', car.car_num)\n",
    "    \n",
    "new_car_1 = car('차차', 1200, 1992)\n",
    "new_car_2 = car('차차차', 2100, 1992)\n",
    "\n",
    "new_car_2.print_car_num()\n",
    "new_car_1.print_info()\n",
    "new_car_3 = car('차차차차', 300, 1991)\n",
    "\n",
    "new_car_1.change_name()\n",
    "new_car_2.change_name()\n",
    "new_car_3.change_name()\n",
    "new_car_3.print_car_num()\n",
    "new_car_2.print_info()\n",
    "new_car_3.print_info()\n"
   ]
  },
  {
   "cell_type": "code",
   "execution_count": null,
   "metadata": {},
   "outputs": [],
   "source": []
  }
 ],
 "metadata": {
  "kernelspec": {
   "display_name": "Python 3",
   "language": "python",
   "name": "python3"
  },
  "language_info": {
   "codemirror_mode": {
    "name": "ipython",
    "version": 3
   },
   "file_extension": ".py",
   "mimetype": "text/x-python",
   "name": "python",
   "nbconvert_exporter": "python",
   "pygments_lexer": "ipython3",
   "version": "3.7.3"
  }
 },
 "nbformat": 4,
 "nbformat_minor": 2
}
