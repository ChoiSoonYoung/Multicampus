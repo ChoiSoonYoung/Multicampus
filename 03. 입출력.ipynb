{
 "cells": [
  {
   "cell_type": "markdown",
   "metadata": {},
   "source": [
    "# 03. 입출력\n",
    "\n",
    "### 14-1-12.txt 텍스트파일을 리스트로 읽어 단어 길이가 5보다 큰 단어만 나열하세요\n",
    "\n"
   ]
  },
  {
   "cell_type": "code",
   "execution_count": 8,
   "metadata": {},
   "outputs": [
    {
     "name": "stdout",
     "output_type": "stream",
     "text": [
      "['information', 'fantastic', 'activity', 'homeroom', 'importance', 'gossip', 'dictionary', 'artist', 'useful', 'website', 'communicate']\n"
     ]
    }
   ],
   "source": [
    "'''14-1-12.txt \n",
    "information\n",
    "fantastic\n",
    "activity\n",
    "such\n",
    "homeroom\n",
    "importance\n",
    "gossip\n",
    "dictionary\n",
    "artist\n",
    "grade\n",
    "useful\n",
    "allow\n",
    "website\n",
    "rule\n",
    "communicate'''\n",
    "\n",
    "with open('./14-1-12.txt', 'r', encoding = 'utf-8') as fd:\n",
    "    data = fd.read()\n",
    "    data = data.split('\\n')\n",
    "\n",
    "for i,d in enumerate(data):\n",
    "    if len(d) <= 5 :\n",
    "        data.pop(i)\n",
    "        \n",
    "print(data)\n"
   ]
  },
  {
   "cell_type": "markdown",
   "metadata": {},
   "source": [
    "## 연습문제2\n",
    "\n",
    "### 가위바위보 게임 업그레이드\n",
    "\n",
    "이전에 만든 가위바위보 게임을 총 게임횟수와 승률을 게임을 다시 실행하도 유지되도록 수정하세요\n",
    "\n",
    "심화 이름을 입력받아 이름별로 게임횟수와 승률을 저장해주세요\n"
   ]
  },
  {
   "cell_type": "code",
   "execution_count": null,
   "metadata": {},
   "outputs": [
    {
     "name": "stdout",
     "output_type": "stream",
     "text": [
      "{'김영희': {'전체': 4, '승리': 1, '비김': 2, '승률': 0.25}}\n"
     ]
    }
   ],
   "source": [
    "import pickle\n",
    "import random\n",
    "\n",
    "\n",
    "#{'김철수': {'전체': 5, '승리': 3, '비김': 1, '승률': 0.6}} 저장 형식\n",
    "is_first = 0\n",
    "\n",
    "if is_first == 0 :\n",
    "    with open('./test.pkl', 'rb') as fd :\n",
    "        data = pickle.load(fd)\n",
    "\n",
    "print(data)\n",
    "\n",
    "#import sys\n",
    "#sys.exit(1)\n",
    "\n",
    "\n",
    "game_list = [\"가위\",\"바위\",\"보\"]\n",
    "result_dict = {'전체' : 0, '승리' : 0, '비김' : 0}\n",
    "total = 0\n",
    "\n",
    "user_list = {}\n",
    "user_name = input()\n",
    "\n",
    "if user_name not in user_list :\n",
    "    user_list[user_name] ={'전체': 0,'승리': 0,'비김': 0,'승률': 0,}\n",
    "#user_name 확인\n",
    "\n",
    "\n",
    "while(1):\n",
    "    \n",
    "    print(\"가위(1), 바위(2), 보(3) 을 입력해주세요! :\")\n",
    "    user = int(input())\n",
    "    if user>= 1 and user <=3:\n",
    "        result_dict['전체'] +=1\n",
    "        computer = random.randint(1,3)\n",
    "        print('유저 : {0}, 컴퓨터 : {1}'.format(game_list[user-1],game_list[computer-1]))\n",
    "        if user == computer :\n",
    "            result_dict['비김'] +=1\n",
    "        elif user == 1 and computer == 3 :\n",
    "            result_dict['승리'] +=1\n",
    "        elif user == 2 and computer == 1 :\n",
    "            result_dict['승리'] +=1\n",
    "        elif user == 3 and computer == 2 :\n",
    "            result_dict['승리'] +=1\n",
    "        \n",
    "    else :\n",
    "        print('게임종료 (전체:{0}, 승리:{1}, 비김:{2})'.format(result_dict['전체'],result_dict['승리'],result_dict['비김']))\n",
    "        \n",
    "        break\n",
    "\n",
    "user_list[user_name]['전체'] += result_dict['전체']\n",
    "user_list[user_name]['승리'] += result_dict['승리']\n",
    "user_list[user_name]['비김'] += result_dict['비김']\n",
    "user_list[user_name]['승률']= result_dict['승리']/result_dict['전체']\n",
    "\n",
    "print(user_list)\n",
    "with open('./test.pkl', 'wb') as f:\n",
    "    pickle.dump(user_list, f)\n",
    "    \n",
    "    "
   ]
  },
  {
   "cell_type": "code",
   "execution_count": 32,
   "metadata": {},
   "outputs": [
    {
     "name": "stdout",
     "output_type": "stream",
     "text": [
      "{'김영희': {'전체': 4, '승리': 1, '비김': 2, '승률': 0.25}}\n"
     ]
    }
   ],
   "source": [
    "with open('./test.pkl', 'rb') as fd :\n",
    "        data = pickle.load(fd)\n",
    "\n",
    "print(data)"
   ]
  },
  {
   "cell_type": "markdown",
   "metadata": {},
   "source": [
    "## 연습문제3\n",
    "\n",
    "성적관리 프로그램 개발\n",
    "\n",
    "메뉴를 선택해주세요 1 - 입력, 2 - 조회, 3 - 삭제, 0 - 종료) : 1\n",
    "이름 : 이진범\n",
    "수학 : 30\n",
    "과학 : 40\n",
    "영어 : 50\n",
    "\n",
    "메뉴를 선택해주세요 1 - 입력, 2 - 조회, 3 - 삭제, 0 - 종료) : 2\n",
    "[0] 이름 : 이민호, 수학 : 40, 과학 : 50, 영어 : 30\n",
    "[1] 이름 : 이진범, 수학 : 30, 과학 : 40, 영어 : 50\n",
    "\n",
    "메뉴를 선택해주세요 1 - 입력, 2 - 조회, 3 - 삭제, 0 - 종료) : 3\n",
    "[0] 이름 : 이민호, 수학 : 40, 과학 : 50, 영어 : 30\n",
    "[1] 이름 : 이진범, 수학 : 30, 과학 : 40, 영어 : 50\n",
    "삭제할 번호를 입력해주세요 : 0\n",
    "삭제가 완료되었습니다.\n",
    "\n",
    "\n",
    "메뉴를 선택해주세요 1 - 입력, 2 - 조회, 3 - 삭제, 0 - 종료) : 0\n",
    "종료되었습니다\n",
    "\n",
    "\n",
    "\n",
    "다음과 같이 동작하는 프로그램을 개발하세요\n",
    "프로그램 종료후 다시 접속할때 이전이 입력됬던 값을 파일에 저장해놨다 불러와주세요\n",
    "\n",
    "심화 수정기능개발\n"
   ]
  },
  {
   "cell_type": "code",
   "execution_count": null,
   "metadata": {},
   "outputs": [],
   "source": []
  }
 ],
 "metadata": {
  "kernelspec": {
   "display_name": "Python 3",
   "language": "python",
   "name": "python3"
  },
  "language_info": {
   "codemirror_mode": {
    "name": "ipython",
    "version": 3
   },
   "file_extension": ".py",
   "mimetype": "text/x-python",
   "name": "python",
   "nbconvert_exporter": "python",
   "pygments_lexer": "ipython3",
   "version": "3.7.3"
  }
 },
 "nbformat": 4,
 "nbformat_minor": 2
}
