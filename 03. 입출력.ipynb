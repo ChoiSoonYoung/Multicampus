{
 "cells": [
  {
   "cell_type": "markdown",
   "metadata": {},
   "source": [
    "# 03. 입출력\n",
    "\n",
    "### 14-1-12.txt 텍스트파일을 리스트로 읽어 단어 길이가 5보다 큰 단어만 나열하세요\n",
    "\n"
   ]
  },
  {
   "cell_type": "code",
   "execution_count": 8,
   "metadata": {},
   "outputs": [
    {
     "name": "stdout",
     "output_type": "stream",
     "text": [
      "['information', 'fantastic', 'activity', 'homeroom', 'importance', 'gossip', 'dictionary', 'artist', 'useful', 'website', 'communicate']\n"
     ]
    }
   ],
   "source": [
    "'''14-1-12.txt \n",
    "information\n",
    "fantastic\n",
    "activity\n",
    "such\n",
    "homeroom\n",
    "importance\n",
    "gossip\n",
    "dictionary\n",
    "artist\n",
    "grade\n",
    "useful\n",
    "allow\n",
    "website\n",
    "rule\n",
    "communicate'''\n",
    "\n",
    "with open('./14-1-12.txt', 'r', encoding = 'utf-8') as fd:\n",
    "    data = fd.read()\n",
    "    data = data.split('\\n')\n",
    "\n",
    "for i,d in enumerate(data):\n",
    "    if len(d) <= 5 :\n",
    "        data.pop(i)\n",
    "        \n",
    "print(data)\n"
   ]
  },
  {
   "cell_type": "markdown",
   "metadata": {},
   "source": [
    "## 연습문제2\n",
    "\n",
    "### 가위바위보 게임 업그레이드\n",
    "\n",
    "이전에 만든 가위바위보 게임을 총 게임횟수와 승률을 게임을 다시 실행하도 유지되도록 수정하세요\n",
    "\n",
    "심화 이름을 입력받아 이름별로 게임횟수와 승률을 저장해주세요\n"
   ]
  },
  {
   "cell_type": "code",
   "execution_count": 12,
   "metadata": {},
   "outputs": [
    {
     "ename": "TypeError",
     "evalue": "load() missing required argument 'file' (pos 1)",
     "output_type": "error",
     "traceback": [
      "\u001b[1;31m---------------------------------------------------------------------------\u001b[0m",
      "\u001b[1;31mTypeError\u001b[0m                                 Traceback (most recent call last)",
      "\u001b[1;32m<ipython-input-12-fdb33235deeb>\u001b[0m in \u001b[0;36m<module>\u001b[1;34m\u001b[0m\n\u001b[0;32m      2\u001b[0m \u001b[1;33m\u001b[0m\u001b[0m\n\u001b[0;32m      3\u001b[0m \u001b[1;32mwith\u001b[0m \u001b[0mopen\u001b[0m\u001b[1;33m(\u001b[0m\u001b[1;34m'./test.pkl'\u001b[0m\u001b[1;33m,\u001b[0m \u001b[1;34m'r'\u001b[0m\u001b[1;33m,\u001b[0m \u001b[0mencoding\u001b[0m \u001b[1;33m=\u001b[0m \u001b[1;34m'utf-8'\u001b[0m\u001b[1;33m)\u001b[0m \u001b[1;32mas\u001b[0m \u001b[0mfd\u001b[0m \u001b[1;33m:\u001b[0m\u001b[1;33m\u001b[0m\u001b[1;33m\u001b[0m\u001b[0m\n\u001b[1;32m----> 4\u001b[1;33m     \u001b[0mdata\u001b[0m \u001b[1;33m=\u001b[0m \u001b[0mpickle\u001b[0m\u001b[1;33m.\u001b[0m\u001b[0mload\u001b[0m\u001b[1;33m(\u001b[0m\u001b[1;33m)\u001b[0m\u001b[1;33m\u001b[0m\u001b[1;33m\u001b[0m\u001b[0m\n\u001b[0m\u001b[0;32m      5\u001b[0m \u001b[1;33m\u001b[0m\u001b[0m\n\u001b[0;32m      6\u001b[0m \u001b[0mprint\u001b[0m\u001b[1;33m(\u001b[0m\u001b[0mdata\u001b[0m\u001b[1;33m)\u001b[0m\u001b[1;33m\u001b[0m\u001b[1;33m\u001b[0m\u001b[0m\n",
      "\u001b[1;31mTypeError\u001b[0m: load() missing required argument 'file' (pos 1)"
     ]
    }
   ],
   "source": [
    "import pickle\n",
    "\n",
    "with open('./test.pkl', 'r') as fd :\n",
    "    data = pickle.load()\n",
    "\n",
    "print(data)\n",
    "    \n",
    "with open('./test.pkl', 'wb') as f:\n",
    "    pickle.dump(data, f)\n",
    "\n",
    "    \n",
    "    "
   ]
  },
  {
   "cell_type": "markdown",
   "metadata": {},
   "source": [
    "## 연습문제3\n",
    "\n",
    "성적관리 프로그램 개발\n",
    "\n",
    "메뉴를 선택해주세요 1 - 입력, 2 - 조회, 3 - 삭제, 0 - 종료) : 1\n",
    "이름 : 이진범\n",
    "수학 : 30\n",
    "과학 : 40\n",
    "영어 : 50\n",
    "\n",
    "메뉴를 선택해주세요 1 - 입력, 2 - 조회, 3 - 삭제, 0 - 종료) : 2\n",
    "[0] 이름 : 이민호, 수학 : 40, 과학 : 50, 영어 : 30\n",
    "[1] 이름 : 이진범, 수학 : 30, 과학 : 40, 영어 : 50\n",
    "\n",
    "메뉴를 선택해주세요 1 - 입력, 2 - 조회, 3 - 삭제, 0 - 종료) : 3\n",
    "[0] 이름 : 이민호, 수학 : 40, 과학 : 50, 영어 : 30\n",
    "[1] 이름 : 이진범, 수학 : 30, 과학 : 40, 영어 : 50\n",
    "삭제할 번호를 입력해주세요 : 0\n",
    "삭제가 완료되었습니다.\n",
    "\n",
    "\n",
    "메뉴를 선택해주세요 1 - 입력, 2 - 조회, 3 - 삭제, 0 - 종료) : 0\n",
    "종료되었습니다\n",
    "\n",
    "\n",
    "\n",
    "다음과 같이 동작하는 프로그램을 개발하세요\n",
    "프로그램 종료후 다시 접속할때 이전이 입력됬던 값을 파일에 저장해놨다 불러와주세요\n",
    "\n",
    "심화 수정기능개발\n"
   ]
  },
  {
   "cell_type": "code",
   "execution_count": null,
   "metadata": {},
   "outputs": [],
   "source": []
  }
 ],
 "metadata": {
  "kernelspec": {
   "display_name": "Python 3",
   "language": "python",
   "name": "python3"
  },
  "language_info": {
   "codemirror_mode": {
    "name": "ipython",
    "version": 3
   },
   "file_extension": ".py",
   "mimetype": "text/x-python",
   "name": "python",
   "nbconvert_exporter": "python",
   "pygments_lexer": "ipython3",
   "version": "3.7.3"
  }
 },
 "nbformat": 4,
 "nbformat_minor": 2
}
