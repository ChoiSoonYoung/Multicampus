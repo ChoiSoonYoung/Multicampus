{
 "cells": [
  {
   "cell_type": "code",
   "execution_count": 9,
   "metadata": {},
   "outputs": [
    {
     "name": "stdout",
     "output_type": "stream",
     "text": [
      "90\n",
      "90\n",
      "90\n",
      "합격\n"
     ]
    }
   ],
   "source": [
    "'''\n",
    "사용자로 점수를 3개 입력받아\n",
    "모든 점수가 65점보다 클 경우 합격 아닐경우 불합격을 출력하세요\n",
    "단, 0~100 이 아닌 숫자가 입력된경우 잘못된 “잘못된 점수가 입력되었습니다\" 를 출력하세요\n",
    "'''\n",
    "\n",
    "a = 3\n",
    "total = 0\n",
    "for i in range(a):\n",
    "    tmp = int(input())\n",
    "    if tmp<0 or tmp>100: \n",
    "        print(\"잘못된 점수가 입력되었습니다\")\n",
    "        break\n",
    "    total += tmp\n",
    "\n",
    "#if a not in range(101)\n",
    "\n",
    "if tmp>0 and tmp<100: \n",
    "    if total/3 < 65 :\n",
    "        print(\"불합격\")\n",
    "    else :\n",
    "        print(\"합격\")"
   ]
  }
 ],
 "metadata": {
  "kernelspec": {
   "display_name": "Python 3",
   "language": "python",
   "name": "python3"
  },
  "language_info": {
   "codemirror_mode": {
    "name": "ipython",
    "version": 3
   },
   "file_extension": ".py",
   "mimetype": "text/x-python",
   "name": "python",
   "nbconvert_exporter": "python",
   "pygments_lexer": "ipython3",
   "version": "3.7.3"
  }
 },
 "nbformat": 4,
 "nbformat_minor": 2
}
