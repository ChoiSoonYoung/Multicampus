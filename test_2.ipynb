{
 "cells": [
  {
   "cell_type": "code",
   "execution_count": 2,
   "metadata": {},
   "outputs": [
    {
     "name": "stdout",
     "output_type": "stream",
     "text": [
      "85\n"
     ]
    }
   ],
   "source": [
    "'''반 평균을 구하시오.\n",
    "단 변수를 사용하여 계산하고,\n",
    " 변수의 이름을 학생의 이름으로 하십시요.\n",
    "- 반드시 정수로 출력하십시요.\n",
    " 이름\n",
    "점수\n",
    "mike\n",
    "80\n",
    "judy\n",
    "75\n",
    "sera\n",
    "100\n",
    "'''\n",
    "mike = 80\n",
    "judy = 75\n",
    "sera = 100\n",
    "\n",
    "aa = (mike + judy + sera)/3\n",
    "\n",
    "print(int(aa))"
   ]
  }
 ],
 "metadata": {
  "kernelspec": {
   "display_name": "Python 3",
   "language": "python",
   "name": "python3"
  },
  "language_info": {
   "codemirror_mode": {
    "name": "ipython",
    "version": 3
   },
   "file_extension": ".py",
   "mimetype": "text/x-python",
   "name": "python",
   "nbconvert_exporter": "python",
   "pygments_lexer": "ipython3",
   "version": "3.6.8"
  }
 },
 "nbformat": 4,
 "nbformat_minor": 2
}
