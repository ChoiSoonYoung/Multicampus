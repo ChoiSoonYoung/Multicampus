{
 "cells": [
  {
   "cell_type": "code",
   "execution_count": 6,
   "metadata": {},
   "outputs": [
    {
     "name": "stdout",
     "output_type": "stream",
     "text": [
      "33\n",
      "22\n",
      "44\n",
      "False\n"
     ]
    }
   ],
   "source": [
    "'''\n",
    "사용자로 점수를 3개 입력받아\n",
    "모든 점수가 65점보다 클 경우 True 아닐경우 False\n",
    "를 출력하세요\n",
    "'''\n",
    "\n",
    "a = 3\n",
    "tmp = 0\n",
    "for i in range(a):\n",
    "    tmp += int(input())\n",
    "    \n",
    "if tmp/3 > 65 :\n",
    "    print(True)\n",
    "else :\n",
    "    print(False)"
   ]
  }
 ],
 "metadata": {
  "kernelspec": {
   "display_name": "Python 3",
   "language": "python",
   "name": "python3"
  },
  "language_info": {
   "codemirror_mode": {
    "name": "ipython",
    "version": 3
   },
   "file_extension": ".py",
   "mimetype": "text/x-python",
   "name": "python",
   "nbconvert_exporter": "python",
   "pygments_lexer": "ipython3",
   "version": "3.6.8"
  }
 },
 "nbformat": 4,
 "nbformat_minor": 2
}
