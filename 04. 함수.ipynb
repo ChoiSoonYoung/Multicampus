{
 "cells": [
  {
   "cell_type": "markdown",
   "metadata": {},
   "source": [
    "# 04. 함수\n",
    "\n",
    "## 변수의 유효범위\n",
    "\n",
    "a = 5 # 전역변수\n",
    "\n",
    "def func3():\n",
    "    \n",
    "    global a # 전역변수 사용\n",
    "    a = 1 # 전역변수 변경\n",
    "    print(a)\n",
    "\n",
    "func3() # 1 출력\n",
    "\n",
    "print(a) #1 출력\n",
    "\n",
    "\n",
    "\n",
    "## 연습문제1\n",
    "\n",
    "### 사칙연산 함수만들기\n",
    "ex)\n",
    "calc(5, 6)\n",
    "덧셈: 11, 뺄셈: -1, 곱셈: 30, 나눗셈: 0.8333333333333334\n"
   ]
  },
  {
   "cell_type": "code",
   "execution_count": 1,
   "metadata": {},
   "outputs": [
    {
     "name": "stdout",
     "output_type": "stream",
     "text": [
      "덧셈 :  11 뺄셈 :  -1 곱셈 :  30 나눗셈 :  0.8333333333333334\n"
     ]
    }
   ],
   "source": [
    "def calc(a, b):\n",
    "    print('덧셈 : ', a+b, '뺄셈 : ', a-b, '곱셈 : ', a*b, '나눗셈 : ', a/b )\n",
    "\n",
    "    \n",
    "calc(5,6)"
   ]
  },
  {
   "cell_type": "markdown",
   "metadata": {},
   "source": [
    "## 연습문제2\n",
    "\n",
    "### 해당값을 모두 찾아 위치를 리턴해주는 함수만들기\n",
    "ex)\n",
    "lis = [1, 2, 3, 1, 4, 2, 1]\n",
    "allindex(lis, 1)\n",
    "[0, 3, 6]\n"
   ]
  },
  {
   "cell_type": "code",
   "execution_count": 2,
   "metadata": {},
   "outputs": [
    {
     "name": "stdout",
     "output_type": "stream",
     "text": [
      "[0, 3, 6]\n"
     ]
    }
   ],
   "source": [
    "lis = [1, 2, 3, 1, 4, 2, 1]\n",
    "\n",
    "def allindex(search_list, num):\n",
    "    answer_list = []\n",
    "    for idx, i in enumerate(search_list):\n",
    "        if i == num : \n",
    "            answer_list.append(idx)\n",
    "    print(answer_list)\n",
    "\n",
    "allindex(lis, 1)"
   ]
  },
  {
   "cell_type": "markdown",
   "metadata": {},
   "source": [
    "## 연습문제3\n",
    "\n",
    "### 가변인수와 고정인수를 사용해 모든값을 더하거나 빼거나 곱하는 함수 작성\n",
    "\n",
    "ex)\n",
    "\n",
    "calc(\"+\", 1, 2, 3, 4, 5) # 1 + 2 + 3 + 4 + 5\n",
    "\n",
    "15\n",
    "\n",
    "calc(\"-\", 1, 2, 3, 4, 5) # 1 - 2 - 3 - 4 - 5\n",
    "\n",
    "-13\n",
    "\n",
    "calc(\"*\", 1, 2, 3, 4, 5) # 1 * 2 * 3 * 4 * 5\n",
    "\n",
    "120\n"
   ]
  },
  {
   "cell_type": "code",
   "execution_count": 12,
   "metadata": {},
   "outputs": [
    {
     "data": {
      "text/plain": [
       "120"
      ]
     },
     "execution_count": 12,
     "metadata": {},
     "output_type": "execute_result"
    }
   ],
   "source": [
    "def calc(operator, *args):\n",
    "    result = 0\n",
    "    if operator == '+' :\n",
    "        for i in args:\n",
    "            result += i\n",
    "    elif operator == '-' :\n",
    "        for idx, i in enumerate(args):\n",
    "            if idx == 0 :\n",
    "                result = i \n",
    "            else:\n",
    "                result -= i\n",
    "    elif operator == '*' :\n",
    "        for idx, i in enumerate(args):\n",
    "            if idx == 0 :\n",
    "                result = i \n",
    "            else:\n",
    "                result *= i\n",
    "    return result\n",
    "    \n",
    "calc(\"*\", 1, 2, 3, 4, 5)"
   ]
  },
  {
   "cell_type": "markdown",
   "metadata": {},
   "source": [
    "## 연습문제4\n",
    "\n",
    "### 가변인수를 이용 가장 높은값, 낮은값, 평균값을 구하는 함수 작성\n",
    "ex)\n",
    "\n",
    "calc(1,2,3,4,5)\n",
    "\n",
    "최대값 : 5, 최소값 : 1, 평균값 : 3.0\n"
   ]
  },
  {
   "cell_type": "code",
   "execution_count": 15,
   "metadata": {},
   "outputs": [
    {
     "name": "stdout",
     "output_type": "stream",
     "text": [
      "최대값 : 5, 최소값 : 1, 평균값 : 3.0\n"
     ]
    }
   ],
   "source": [
    "import numpy as np\n",
    "\n",
    "def calc(*args):\n",
    "    min_num = min(args)\n",
    "    max_num = max(args)\n",
    "    avg = np.mean(args)\n",
    "    \n",
    "    #avg = sum(args)/len(args)\n",
    "    \n",
    "    \n",
    "    print('최대값 : {0}, 최소값 : {1}, 평균값 : {2}'.format(max_num, min_num, avg))\n",
    "    \n",
    "calc(1,2,3,4,5)"
   ]
  },
  {
   "cell_type": "markdown",
   "metadata": {},
   "source": [
    "## lambda 함수 -> 함수자체를 변수에 저장할 수 있음"
   ]
  },
  {
   "cell_type": "code",
   "execution_count": 2,
   "metadata": {},
   "outputs": [],
   "source": [
    "my_func = lambda x, y : x*y"
   ]
  },
  {
   "cell_type": "code",
   "execution_count": 3,
   "metadata": {},
   "outputs": [
    {
     "data": {
      "text/plain": [
       "6"
      ]
     },
     "execution_count": 3,
     "metadata": {},
     "output_type": "execute_result"
    }
   ],
   "source": [
    "my_func(2,3)"
   ]
  },
  {
   "cell_type": "markdown",
   "metadata": {},
   "source": [
    "## 키워드 줄 때\n",
    "\n",
    "-func(a = 33, 22)\n",
    "이런식으로 하면 에러남, 키워드 주기 시작했으면 계속줘야함 \n",
    "func(33, b= 22) 이건 에러안남\n",
    "\n",
    "-가변인자는 맨 마지막에 주기\n",
    "\n",
    "- dict는 **, list는 *"
   ]
  },
  {
   "cell_type": "code",
   "execution_count": null,
   "metadata": {},
   "outputs": [],
   "source": []
  }
 ],
 "metadata": {
  "kernelspec": {
   "display_name": "Python 3",
   "language": "python",
   "name": "python3"
  },
  "language_info": {
   "codemirror_mode": {
    "name": "ipython",
    "version": 3
   },
   "file_extension": ".py",
   "mimetype": "text/x-python",
   "name": "python",
   "nbconvert_exporter": "python",
   "pygments_lexer": "ipython3",
   "version": "3.7.3"
  }
 },
 "nbformat": 4,
 "nbformat_minor": 2
}
