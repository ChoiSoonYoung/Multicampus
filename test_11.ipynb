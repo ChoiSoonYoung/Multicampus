{
 "cells": [
  {
   "cell_type": "code",
   "execution_count": null,
   "metadata": {},
   "outputs": [],
   "source": [
    "'''사용자로부터 숫자를 계속 입력받다가\n",
    "s or S 를 입력하면 합계출력\n",
    "\n",
    "값을 입력해주세요30\n",
    "값을 입력해주세요20\n",
    "값을 입력해주세요50\n",
    "값을 입력해주세요40\n",
    "값을 입력해주세요30\n",
    "값을 입력해주세요s\n",
    "합계는 ?  170\n",
    "\n",
    "'''"
   ]
  }
 ],
 "metadata": {
  "kernelspec": {
   "display_name": "Python 3",
   "language": "python",
   "name": "python3"
  },
  "language_info": {
   "codemirror_mode": {
    "name": "ipython",
    "version": 3
   },
   "file_extension": ".py",
   "mimetype": "text/x-python",
   "name": "python",
   "nbconvert_exporter": "python",
   "pygments_lexer": "ipython3",
   "version": "3.6.8"
  }
 },
 "nbformat": 4,
 "nbformat_minor": 2
}
