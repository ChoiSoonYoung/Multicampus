{
 "cells": [
  {
   "cell_type": "code",
   "execution_count": 2,
   "metadata": {},
   "outputs": [
    {
     "name": "stdout",
     "output_type": "stream",
     "text": [
      "66.66666666666667\n"
     ]
    }
   ],
   "source": [
    "'''a=\"  90:30:80  \"이고 :을 기준으로 각각 수학점수, 영어점수, 과학점수이다. \n",
    "문자열 함수를 이용해 공백을 제거하고,  \n",
    "각 점수를 각각 math, english, science 변수에 저장한 후,\n",
    "average 란 변수에 평균값을 저장하고 출력하시오.\n",
    "'''\n",
    "\n",
    "a=\"  90:30:80  \"\n",
    "a.strip()\n",
    "b= a.split(':')\n",
    "\n",
    "math = int(b[0])\n",
    "english = int(b[1])\n",
    "science = int(b[2])\n",
    "\n",
    "average = (math + english + science)/3\n",
    "\n",
    "print(average)"
   ]
  },
  {
   "cell_type": "code",
   "execution_count": null,
   "metadata": {},
   "outputs": [],
   "source": []
  }
 ],
 "metadata": {
  "kernelspec": {
   "display_name": "Python 3",
   "language": "python",
   "name": "python3"
  },
  "language_info": {
   "codemirror_mode": {
    "name": "ipython",
    "version": 3
   },
   "file_extension": ".py",
   "mimetype": "text/x-python",
   "name": "python",
   "nbconvert_exporter": "python",
   "pygments_lexer": "ipython3",
   "version": "3.6.8"
  }
 },
 "nbformat": 4,
 "nbformat_minor": 2
}
