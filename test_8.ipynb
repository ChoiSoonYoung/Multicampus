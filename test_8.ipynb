{
 "cells": [
  {
   "cell_type": "code",
   "execution_count": 3,
   "metadata": {},
   "outputs": [
    {
     "name": "stdout",
     "output_type": "stream",
     "text": [
      "13\n",
      "16\n",
      "19\n",
      "30\n",
      "3\n",
      "15\n"
     ]
    }
   ],
   "source": [
    "'''(1)  x = [3, 6, 9, 20, -7, 5] 의 값의 모든 요소에 10을 곱한뒤 출력하세요\n",
    "심화 : 출력과 리스트 x 의 값에도 모두 10을 곱해주세요\n",
    "'''\n",
    "\n",
    "x = [3, 6, 9, 20, -7, 5]\n",
    "\n",
    "for i,j in enumerate(x):\n",
    "    x[i] = j+10\n",
    "\n",
    "for i in x:\n",
    "    print(i)"
   ]
  },
  {
   "cell_type": "code",
   "execution_count": null,
   "metadata": {},
   "outputs": [],
   "source": [
    "''' y = {“math”: 70, “science”: 80, “english”: 20} 의 값의 모든 요소에 10을 더한뒤 출력하세요\n",
    "심화 : 출력과 딕셔너리 y 의 값에도 모두 10을 더해주세요\n",
    "'''\n",
    "\n",
    "y = {“math”: 70, “science”: 80, “english”: 20}"
   ]
  },
  {
   "cell_type": "code",
   "execution_count": 4,
   "metadata": {},
   "outputs": [
    {
     "name": "stdout",
     "output_type": "stream",
     "text": [
      "5\n",
      "5 x 1 = 5\n",
      "5 x 2 = 10\n",
      "5 x 3 = 15\n",
      "5 x 4 = 20\n",
      "5 x 5 = 25\n",
      "5 x 6 = 30\n",
      "5 x 7 = 35\n",
      "5 x 8 = 40\n",
      "5 x 9 = 45\n"
     ]
    }
   ],
   "source": [
    "'''(3) 숫자를 입력받고 입력받은 정수의 구구단을 출력하세요'''\n",
    "\n",
    "num =int(input())\n",
    "\n",
    "for j in range(1,10):\n",
    "    print('{0} x {1} = {2}'.format(num,j,num*j))\n",
    "\n"
   ]
  }
 ],
 "metadata": {
  "kernelspec": {
   "display_name": "Python 3",
   "language": "python",
   "name": "python3"
  },
  "language_info": {
   "codemirror_mode": {
    "name": "ipython",
    "version": 3
   },
   "file_extension": ".py",
   "mimetype": "text/x-python",
   "name": "python",
   "nbconvert_exporter": "python",
   "pygments_lexer": "ipython3",
   "version": "3.7.3"
  }
 },
 "nbformat": 4,
 "nbformat_minor": 2
}
