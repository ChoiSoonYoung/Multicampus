{
 "cells": [
  {
   "cell_type": "code",
   "execution_count": 37,
   "metadata": {},
   "outputs": [
    {
     "name": "stdout",
     "output_type": "stream",
     "text": [
      "입력 해주세요:10\n",
      "11\n",
      "12\n",
      "1121\n",
      "122111\n",
      "112213\n",
      "12221131\n",
      "1123123111\n",
      "12213111213113\n",
      "11221131132111311231\n",
      "11221131132111311231\n"
     ]
    }
   ],
   "source": [
    "# initialize\n",
    "result = \"1\"\n",
    "output = \"\"\n",
    "num = int(input(\"입력 해주세요:\"))\n",
    "\n",
    "num -=1\n",
    "\n",
    "for i in range(num):\n",
    "    j = 0 # 현재 index\n",
    "    \n",
    "    while j < len(result):\n",
    "        now = result[j] # 현재 문자\n",
    "        count = 1\n",
    "        while j+1 < len(result) and now == result[j+1]:  # 같은 거 있는지 계속 봄.\n",
    "            count += 1 \n",
    "            j += 1\n",
    "        # 다른거면 탈출\n",
    "        output += now + str(count)\n",
    "        j += 1\n",
    "        \n",
    "    print (output)\n",
    "    \n",
    "    result = output\n",
    "    output = \"\"\n",
    "\n",
    "print(result)\n"
   ]
  },
  {
   "cell_type": "code",
   "execution_count": 20,
   "metadata": {},
   "outputs": [
    {
     "name": "stdout",
     "output_type": "stream",
     "text": [
      "\n"
     ]
    }
   ],
   "source": []
  },
  {
   "cell_type": "code",
   "execution_count": null,
   "metadata": {},
   "outputs": [],
   "source": []
  },
  {
   "cell_type": "code",
   "execution_count": null,
   "metadata": {},
   "outputs": [],
   "source": []
  },
  {
   "cell_type": "code",
   "execution_count": null,
   "metadata": {},
   "outputs": [],
   "source": []
  },
  {
   "cell_type": "code",
   "execution_count": null,
   "metadata": {},
   "outputs": [],
   "source": []
  },
  {
   "cell_type": "code",
   "execution_count": null,
   "metadata": {},
   "outputs": [],
   "source": []
  },
  {
   "cell_type": "code",
   "execution_count": null,
   "metadata": {},
   "outputs": [],
   "source": []
  },
  {
   "cell_type": "code",
   "execution_count": null,
   "metadata": {},
   "outputs": [],
   "source": []
  }
 ],
 "metadata": {
  "kernelspec": {
   "display_name": "Python 3",
   "language": "python",
   "name": "python3"
  },
  "language_info": {
   "codemirror_mode": {
    "name": "ipython",
    "version": 3
   },
   "file_extension": ".py",
   "mimetype": "text/x-python",
   "name": "python",
   "nbconvert_exporter": "python",
   "pygments_lexer": "ipython3",
   "version": "3.7.1"
  }
 },
 "nbformat": 4,
 "nbformat_minor": 2
}
