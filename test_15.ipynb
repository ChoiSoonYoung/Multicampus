{
 "cells": [
  {
   "cell_type": "code",
   "execution_count": 44,
   "metadata": {},
   "outputs": [
    {
     "name": "stdout",
     "output_type": "stream",
     "text": [
      "['school', 'science', 'mountian']\n"
     ]
    }
   ],
   "source": [
    "'''(1) word = [“school”, “game”, “piano”, “science”, “hotel”, “mountian”] 중 글자수가 6글자 이상인 문자를 모아 새로운 리스트를 생성하세요\n",
    "(리스트 컴프리핸션을 사용해주세요)\n",
    "'''\n",
    "word = \"“school”, “game”, “piano”, “science”, “hotel”, “mountian”\"\n",
    "word = word.replace('“','')\n",
    "word = word.replace('”','')\n",
    "\n",
    "word = word.split(',')\n",
    "\n",
    "for i,w in enumerate(word):\n",
    "    word[i]= w.strip()\n",
    "\n",
    "\n",
    "c = [w for w in word if len(w) >= 6]\n",
    "\n",
    "print(c)\n",
    "\n",
    "'''\n",
    "d = []\n",
    "for w in word:\n",
    "    if len(w) >= 6:\n",
    "        print(w, len(w))\n",
    "        d.append(w)\n",
    "\n",
    "print(d)\n",
    "\n",
    "'''"
   ]
  },
  {
   "cell_type": "code",
   "execution_count": 50,
   "metadata": {},
   "outputs": [
    {
     "name": "stdout",
     "output_type": "stream",
     "text": [
      "[(6, 'school'), (4, 'game'), (5, 'piano'), (7, 'science'), (5, 'hotel'), (8, 'mountian')]\n"
     ]
    }
   ],
   "source": [
    "'''(2) word = [“school”, “game”, “piano”, “science”, “hotel”, “mountian”] 리스트의 글자수가 들어가있는 새로운 리스트를 생성하세요\n",
    "(리스트 컴프리핸션을 사용해주세요)\n",
    "'''\n",
    "\n",
    "word = \"“school”, “game”, “piano”, “science”, “hotel”, “mountian”\"\n",
    "word = word.replace('“','')\n",
    "word = word.replace('”','')\n",
    "\n",
    "word = word.split(',')\n",
    "\n",
    "for i,w in enumerate(word):\n",
    "    word[i]= w.strip()\n",
    "    \n",
    "word_len = [len(w) for w in word] \n",
    "\n",
    "new_list = list(zip(word_len, word))\n",
    "\n",
    "print(new_list)"
   ]
  }
 ],
 "metadata": {
  "kernelspec": {
   "display_name": "Python 3",
   "language": "python",
   "name": "python3"
  },
  "language_info": {
   "codemirror_mode": {
    "name": "ipython",
    "version": 3
   },
   "file_extension": ".py",
   "mimetype": "text/x-python",
   "name": "python",
   "nbconvert_exporter": "python",
   "pygments_lexer": "ipython3",
   "version": "3.7.3"
  }
 },
 "nbformat": 4,
 "nbformat_minor": 2
}
