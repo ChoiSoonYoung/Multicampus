{
 "cells": [
  {
   "cell_type": "code",
   "execution_count": null,
   "metadata": {},
   "outputs": [],
   "source": [
    "'''(1) word = [“school”, “game”, “piano”, “science”, “hotel”, “mountian”] 중 글자수가 6글자 이상인 문자를 모아 새로운 리스트를 생성하세요\n",
    "(리스트 컴프리핸션을 사용해주세요)\n",
    "'''"
   ]
  },
  {
   "cell_type": "code",
   "execution_count": null,
   "metadata": {},
   "outputs": [],
   "source": [
    "'''(2) word = [“school”, “game”, “piano”, “science”, “hotel”, “mountian”] 리스트의 글자수가 들어가있는 새로운 리스트를 생성하세요\n",
    "(리스트 컴프리핸션을 사용해주세요)\n",
    "'''"
   ]
  }
 ],
 "metadata": {
  "kernelspec": {
   "display_name": "Python 3",
   "language": "python",
   "name": "python3"
  },
  "language_info": {
   "codemirror_mode": {
    "name": "ipython",
    "version": 3
   },
   "file_extension": ".py",
   "mimetype": "text/x-python",
   "name": "python",
   "nbconvert_exporter": "python",
   "pygments_lexer": "ipython3",
   "version": "3.6.8"
  }
 },
 "nbformat": 4,
 "nbformat_minor": 2
}
