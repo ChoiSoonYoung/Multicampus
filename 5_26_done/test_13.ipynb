{
 "cells": [
  {
   "cell_type": "code",
   "execution_count": 10,
   "metadata": {},
   "outputs": [
    {
     "name": "stdout",
     "output_type": "stream",
     "text": [
      "297\n"
     ]
    }
   ],
   "source": [
    "'''randint함수를 사용하여 정수(1~300)로 이루어진 길이가 100개인 리스트 a를 만들고 \n",
    "가장 큰 수를 구하는 코드를 작성하시오.\n",
    "\n",
    "예) a=[32, 45, 2, 5, 76] 일때, 출력결과는 76이 나와야 함.\n",
    "'''\n",
    "\n",
    "import random\n",
    "\n",
    "total_ele = []\n",
    "tmp = 0\n",
    "\n",
    "while(len(total_ele)<100):\n",
    "    num = random.randint(1,300)\n",
    "    total_ele.append(num)\n",
    "\n",
    "\n",
    "for ele in total_ele:\n",
    "    if tmp<ele :\n",
    "        tmp = ele\n",
    "\n",
    "print(tmp)"
   ]
  }
 ],
 "metadata": {
  "kernelspec": {
   "display_name": "Python 3",
   "language": "python",
   "name": "python3"
  },
  "language_info": {
   "codemirror_mode": {
    "name": "ipython",
    "version": 3
   },
   "file_extension": ".py",
   "mimetype": "text/x-python",
   "name": "python",
   "nbconvert_exporter": "python",
   "pygments_lexer": "ipython3",
   "version": "3.7.3"
  }
 },
 "nbformat": 4,
 "nbformat_minor": 2
}
