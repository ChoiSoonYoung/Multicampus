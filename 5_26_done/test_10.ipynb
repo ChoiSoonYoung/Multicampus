{
 "cells": [
  {
   "cell_type": "code",
   "execution_count": 10,
   "metadata": {},
   "outputs": [
    {
     "name": "stdout",
     "output_type": "stream",
     "text": [
      "3과 5의 공배수 = [15, 30, 45, 60, 75, 90], 3의 배수 = [3, 6, 9, 12, 18, 21, 24, 27, 33, 36, 39, 42, 48, 51, 54, 57, 63, 66, 69, 72, 78, 81, 84, 87, 93, 96, 99], 5의 배수 = [5, 10, 20, 25, 35, 40, 50, 55, 65, 70, 80, 85, 95, 100], [1, 2, 4, 7, 8, 11, 13, 14, 16, 17, 19, 22, 23, 26, 28, 29, 31, 32, 34, 37, 38, 41, 43, 44, 46, 47, 49, 52, 53, 56, 58, 59, 61, 62, 64, 67, 68, 71, 73, 74, 76, 77, 79, 82, 83, 86, 88, 89, 91, 92, 94, 97, 98]\n"
     ]
    }
   ],
   "source": [
    "'''1-100 까지 숫자중\n",
    "3과 5의 공배수일경우 “3과 5의 공배수”\n",
    "나머지 숫자중 3의배수일경우 “3의배수”\n",
    "나머지 숫자중 5의배수일경우 “5의배수”\n",
    "모두 해당되지 않을경우 그냥숫자\n",
    "를 출력하세요\n",
    "\n",
    "심화 : 1-입력한숫자까지의 숫자중\n",
    "'''\n",
    "\n",
    "\n",
    "a = list(range(1,101))\n",
    "num_3_5 = []\n",
    "num_3 = []\n",
    "num_5 = []\n",
    "'''\n",
    "print(a)\n",
    "import sys\n",
    "sys.exit()\n",
    "'''\n",
    "for num in a:\n",
    "    if num % 3 == 0 and num % 5 == 0 :\n",
    "        num_3_5.append(num)\n",
    "        a.remove(num)\n",
    "\n",
    "for num in a:\n",
    "    if num % 3 == 0:\n",
    "        num_3.append(num)\n",
    "        a.remove(num)\n",
    "for num in a:\n",
    "    if num % 5 == 0 :\n",
    "        num_5.append(num)\n",
    "        a.remove(num)\n",
    "\n",
    "#print(num_3_5, num_3, num_5, sep = ', ')\n",
    "print('3과 5의 공배수 = {0}, 3의 배수 = {1}, 5의 배수 = {2}, {3}'.format(num_3_5, num_3,num_5,a))"
   ]
  },
  {
   "cell_type": "code",
   "execution_count": null,
   "metadata": {},
   "outputs": [],
   "source": []
  }
 ],
 "metadata": {
  "kernelspec": {
   "display_name": "Python 3",
   "language": "python",
   "name": "python3"
  },
  "language_info": {
   "codemirror_mode": {
    "name": "ipython",
    "version": 3
   },
   "file_extension": ".py",
   "mimetype": "text/x-python",
   "name": "python",
   "nbconvert_exporter": "python",
   "pygments_lexer": "ipython3",
   "version": "3.7.3"
  }
 },
 "nbformat": 4,
 "nbformat_minor": 2
}
