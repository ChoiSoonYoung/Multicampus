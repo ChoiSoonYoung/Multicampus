{
 "cells": [
  {
   "cell_type": "code",
   "execution_count": 1,
   "metadata": {},
   "outputs": [
    {
     "data": {
      "text/plain": [
       "'Number --1--'"
      ]
     },
     "execution_count": 1,
     "metadata": {},
     "output_type": "execute_result"
    }
   ],
   "source": [
    "'Number {0:-^5}'.format(1)\n"
   ]
  },
  {
   "cell_type": "code",
   "execution_count": 12,
   "metadata": {},
   "outputs": [
    {
     "name": "stdout",
     "output_type": "stream",
     "text": [
      "year = 2019, day = 0505, menu = chicken, money = 19000\n"
     ]
    }
   ],
   "source": [
    "'''\n",
    "a=\"20190505chicken19000\"는 잘못 쓰여진 변수이다.\n",
    "2019는 year이라는 변수에, 그 다음 0505를 day라는 변수에,\n",
    "chicken을 menu라는 변수에, 19000을 money라는 변수에 \n",
    "인덱싱을 사용하여 각각 저장하고 출력하시오.\n",
    "\n",
    "“I like {0}, {1} !!”.format(“apple”,”banana”)\n",
    "'''\n",
    "\n",
    "a=\"20190505chicken19000\"\n",
    "\n",
    "year = a[0:4]\n",
    "day = a[4:8]\n",
    "menu = a[8:15]\n",
    "money = a[15:20]\n",
    "\n",
    "\n",
    "print(\"year = {0}, day = {1}, menu = {2}, money = {3}\".format(year, day, menu, money))"
   ]
  },
  {
   "cell_type": "code",
   "execution_count": null,
   "metadata": {},
   "outputs": [],
   "source": []
  }
 ],
 "metadata": {
  "kernelspec": {
   "display_name": "Python 3",
   "language": "python",
   "name": "python3"
  },
  "language_info": {
   "codemirror_mode": {
    "name": "ipython",
    "version": 3
   },
   "file_extension": ".py",
   "mimetype": "text/x-python",
   "name": "python",
   "nbconvert_exporter": "python",
   "pygments_lexer": "ipython3",
   "version": "3.6.8"
  }
 },
 "nbformat": 4,
 "nbformat_minor": 2
}
