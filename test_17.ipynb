{
 "cells": [
  {
   "cell_type": "code",
   "execution_count": null,
   "metadata": {},
   "outputs": [],
   "source": [
    "'''(1) 아래의 학습코드를 가지고 a 리스트가 [[1,2],[3,4],[5,6]] 와 같이 만들어지도록 수정하세요\n",
    ">>> a = []\n",
    ">>> for i in range(3):\n",
    ">>>     line = []\n",
    ">>>     for j in range(2):\n",
    ">>>        line.append(0)\n",
    ">>>     a.append(line)\n",
    ">>> print(a)\n",
    "'''"
   ]
  }
 ],
 "metadata": {
  "kernelspec": {
   "display_name": "Python 3",
   "language": "python",
   "name": "python3"
  },
  "language_info": {
   "codemirror_mode": {
    "name": "ipython",
    "version": 3
   },
   "file_extension": ".py",
   "mimetype": "text/x-python",
   "name": "python",
   "nbconvert_exporter": "python",
   "pygments_lexer": "ipython3",
   "version": "3.6.8"
  }
 },
 "nbformat": 4,
 "nbformat_minor": 2
}
