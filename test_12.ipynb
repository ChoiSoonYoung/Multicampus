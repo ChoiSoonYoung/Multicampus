{
 "cells": [
  {
   "cell_type": "code",
   "execution_count": null,
   "metadata": {},
   "outputs": [],
   "source": [
    "'''가위(1), 바위(2), 보(3) 을 입력해주세요! : 3\n",
    "유저 : 보, 컴퓨터 : 보\n",
    "가위(1), 바위(2), 보(3) 을 입력해주세요! : 2\n",
    "유저 : 바위, 컴퓨터 : 보\n",
    "가위(1), 바위(2), 보(3) 을 입력해주세요! : 1\n",
    "유저 : 가위, 컴퓨터 : 보\n",
    "가위(1), 바위(2), 보(3) 을 입력해주세요! : 4\n",
    "\n",
    "게임종료 (전체:3 ,승리:1)\n",
    "\n",
    "1~3 을 입력하면 게임진행 이외의 숫자를 입력하면 게임종료\n",
    "심화 : 비긴숫자도 출력하세요 (전체:3, 승리:1, 비김:1)\n",
    "\n",
    ">>> import random #random 모듈을 가져온다\n",
    ">>> random.random()\n",
    "0.00202302032\n",
    ">>> random.randint(1,3)\n",
    "3\n",
    "\n",
    "'''"
   ]
  }
 ],
 "metadata": {
  "kernelspec": {
   "display_name": "Python 3",
   "language": "python",
   "name": "python3"
  },
  "language_info": {
   "codemirror_mode": {
    "name": "ipython",
    "version": 3
   },
   "file_extension": ".py",
   "mimetype": "text/x-python",
   "name": "python",
   "nbconvert_exporter": "python",
   "pygments_lexer": "ipython3",
   "version": "3.6.8"
  }
 },
 "nbformat": 4,
 "nbformat_minor": 2
}
