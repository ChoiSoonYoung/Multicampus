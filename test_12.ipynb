{
 "cells": [
  {
   "cell_type": "code",
   "execution_count": 7,
   "metadata": {},
   "outputs": [
    {
     "name": "stdout",
     "output_type": "stream",
     "text": [
      "가위(1), 바위(2), 보(3) 을 입력해주세요! :\n",
      "2\n",
      "유저 : 바위, 컴퓨터 : 보\n",
      "가위(1), 바위(2), 보(3) 을 입력해주세요! :\n",
      "1\n",
      "유저 : 가위, 컴퓨터 : 보\n",
      "가위(1), 바위(2), 보(3) 을 입력해주세요! :\n",
      "3\n",
      "유저 : 보, 컴퓨터 : 보\n",
      "가위(1), 바위(2), 보(3) 을 입력해주세요! :\n",
      "1\n",
      "유저 : 가위, 컴퓨터 : 가위\n",
      "가위(1), 바위(2), 보(3) 을 입력해주세요! :\n",
      "3\n",
      "유저 : 보, 컴퓨터 : 바위\n",
      "가위(1), 바위(2), 보(3) 을 입력해주세요! :\n",
      "4\n",
      "게임종료 (전체:5, 승리:2, 비김:2)\n"
     ]
    }
   ],
   "source": [
    "'''가위(1), 바위(2), 보(3) 을 입력해주세요! : 3\n",
    "유저 : 보, 컴퓨터 : 보\n",
    "가위(1), 바위(2), 보(3) 을 입력해주세요! : 2\n",
    "유저 : 바위, 컴퓨터 : 보\n",
    "가위(1), 바위(2), 보(3) 을 입력해주세요! : 1\n",
    "유저 : 가위, 컴퓨터 : 보\n",
    "가위(1), 바위(2), 보(3) 을 입력해주세요! : 4\n",
    "\n",
    "게임종료 (전체:3 ,승리:1)\n",
    "\n",
    "1~3 을 입력하면 게임진행 이외의 숫자를 입력하면 게임종료\n",
    "심화 : 비긴숫자도 출력하세요 (전체:3, 승리:1, 비김:1)\n",
    "\n",
    ">>> import random #random 모듈을 가져온다\n",
    ">>> random.random()\n",
    "0.00202302032\n",
    ">>> random.randint(1,3)\n",
    "3\n",
    "\n",
    "'''\n",
    "\n",
    "import random\n",
    "game_list = [\"가위\",\"바위\",\"보\"]\n",
    "result_dict = {'전체' : 0, '승리' : 0, '비김' : 0}\n",
    "total = 0\n",
    "\n",
    "while(1):\n",
    "    \n",
    "    print(\"가위(1), 바위(2), 보(3) 을 입력해주세요! :\")\n",
    "    user = int(input())\n",
    "    if user>= 1 and user <=3:\n",
    "        result_dict['전체'] +=1\n",
    "        computer = random.randint(1,3)\n",
    "        print('유저 : {0}, 컴퓨터 : {1}'.format(game_list[user-1],game_list[computer-1]))\n",
    "        if user == computer :\n",
    "            result_dict['비김'] +=1\n",
    "        elif user == 1 and computer == 3 :\n",
    "            result_dict['승리'] +=1\n",
    "        elif user == 2 and computer == 1 :\n",
    "            result_dict['승리'] +=1\n",
    "        elif user == 3 and computer == 2 :\n",
    "            result_dict['승리'] +=1\n",
    "        \n",
    "    else :\n",
    "        print('게임종료 (전체:{0}, 승리:{1}, 비김:{2})'.format(result_dict['전체'],result_dict['승리'],result_dict['비김']))\n",
    "        \n",
    "        break\n"
   ]
  },
  {
   "cell_type": "code",
   "execution_count": null,
   "metadata": {},
   "outputs": [],
   "source": []
  },
  {
   "cell_type": "code",
   "execution_count": null,
   "metadata": {},
   "outputs": [],
   "source": []
  }
 ],
 "metadata": {
  "kernelspec": {
   "display_name": "Python 3",
   "language": "python",
   "name": "python3"
  },
  "language_info": {
   "codemirror_mode": {
    "name": "ipython",
    "version": 3
   },
   "file_extension": ".py",
   "mimetype": "text/x-python",
   "name": "python",
   "nbconvert_exporter": "python",
   "pygments_lexer": "ipython3",
   "version": "3.6.8"
  }
 },
 "nbformat": 4,
 "nbformat_minor": 2
}
