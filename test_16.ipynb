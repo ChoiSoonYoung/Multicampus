{
 "cells": [
  {
   "cell_type": "code",
   "execution_count": 7,
   "metadata": {
    "scrolled": true
   },
   "outputs": [
    {
     "data": {
      "text/plain": [
       "[[20, 60],\n",
       " [40, 100],\n",
       " [60, 140],\n",
       " [60, 120],\n",
       " [120, 200],\n",
       " [180, 280],\n",
       " [100, 180],\n",
       " [200, 300],\n",
       " [300, 420]]"
      ]
     },
     "execution_count": 7,
     "metadata": {},
     "output_type": "execute_result"
    }
   ],
   "source": [
    "'''(1) 아래 두 리스트를 각 요소들을 곱해 새로운 리스트 C 를 만드세요\n",
    "a = [[10, 20], [30, 40], [50, 60]]\n",
    "b = [[2, 3], [4, 5], [6, 7]]\n",
    "\n",
    "\n",
    "\n",
    "심화 2X3 리스트 a, b를 사용자로부터 입력받아 두 값을 곱해 새로운 리스트 C 를 만드세요\n",
    "\n",
    "'''\n",
    "a = [[10, 20], [30, 40], [50, 60]]\n",
    "b = [[2, 3], [4, 5], [6, 7]]\n",
    "'''\n",
    "for q,w in a:\n",
    "    for e,r in b:\n",
    "        print(q*e)\n",
    "        print(w*r)\n",
    "'''        \n",
    "c = [[q*e, w*r] for q,w in a for e,r in b]\n",
    "\n"
   ]
  },
  {
   "cell_type": "markdown",
   "metadata": {},
   "source": [
    "## 연습문제 10\n"
   ]
  },
  {
   "cell_type": "code",
   "execution_count": 23,
   "metadata": {},
   "outputs": [
    {
     "name": "stdout",
     "output_type": "stream",
     "text": [
      "[[1, 2], [3, 4], [5, 6]]\n"
     ]
    }
   ],
   "source": [
    "'''1) 아래의 학습코드를 가지고 a 리스트가 [[1,2],[3,4],[5,6]] 와 같이 만들어지도록 수정하세요\n",
    ">>> a = []\n",
    ">>> for i in range(3):\n",
    ">>>     line = []\n",
    ">>>     for j in range(2):\n",
    ">>>        line.append(0)\n",
    ">>>     a.append(line)\n",
    ">>> print(a)\n",
    "'''\n",
    "a = []\n",
    "sum = 0\n",
    "for i in range(3):\n",
    "    line = []\n",
    "    for j in range(2):\n",
    "        sum += 1\n",
    "        line.append(sum)\n",
    "    a.append(line)\n",
    "print(a)\n",
    "\n"
   ]
  },
  {
   "cell_type": "markdown",
   "metadata": {},
   "source": [
    "### 5_27 연습 예제"
   ]
  },
  {
   "cell_type": "code",
   "execution_count": 29,
   "metadata": {},
   "outputs": [
    {
     "name": "stdout",
     "output_type": "stream",
     "text": [
      "*\n",
      "\n",
      "**\n",
      "\n",
      "***\n",
      "\n",
      "****\n",
      "\n",
      "*****\n",
      "\n",
      "*\n",
      "**\n",
      "***\n",
      "****\n",
      "*****\n",
      "정수를 입력해주세요:5\n",
      "*\n",
      "**\n",
      "***\n",
      "****\n",
      "*****\n"
     ]
    }
   ],
   "source": [
    "import sys\n",
    "\n",
    "for i in range(1,6):\n",
    "    for j in range(i):\n",
    "        sys.stdout.write('*')\n",
    "    print('\\n')\n",
    "    \n",
    "for i in range(1,6):\n",
    "    print('*'* i)\n",
    "    \n",
    "input_star_number = int(input(\"정수를 입력해주세요:\"))\n",
    "for i in range(input_star_number):\n",
    "    str =\"\"\n",
    "    for j in range(i+1):\n",
    "        str += \"*\"\n",
    "    print(str)"
   ]
  },
  {
   "cell_type": "markdown",
   "metadata": {},
   "source": [
    "## 연습문제 11"
   ]
  },
  {
   "cell_type": "markdown",
   "metadata": {},
   "source": [
    "(1) while 문과 break 문을 사용하여 사용자가 입력한 숫자만큼 반복하여 출력하기\n",
    "\n",
    "(2) for 문과 continue 문을 사용하여 사용자가 입력한 숫자까지의 짝수를 출력하기\n"
   ]
  },
  {
   "cell_type": "code",
   "execution_count": 26,
   "metadata": {
    "scrolled": true
   },
   "outputs": [
    {
     "name": "stdout",
     "output_type": "stream",
     "text": [
      "3\n",
      "출력\n",
      "출력\n",
      "출력\n"
     ]
    }
   ],
   "source": [
    "input_num = int(input())\n",
    "num = 1\n",
    "\n",
    "while(1):\n",
    "    if num > input_num:\n",
    "        break\n",
    "    print('출력')\n",
    "    num += 1\n",
    "    "
   ]
  },
  {
   "cell_type": "code",
   "execution_count": 28,
   "metadata": {},
   "outputs": [
    {
     "name": "stdout",
     "output_type": "stream",
     "text": [
      "10\n",
      "2\n",
      "4\n",
      "6\n",
      "8\n",
      "10\n"
     ]
    }
   ],
   "source": [
    "input_num = int(input())\n",
    "\n",
    "\n",
    "for i in range(1,input_num+1):\n",
    "    if i%2 != 0:\n",
    "        continue\n",
    "    print(i)"
   ]
  },
  {
   "cell_type": "code",
   "execution_count": null,
   "metadata": {},
   "outputs": [],
   "source": []
  }
 ],
 "metadata": {
  "kernelspec": {
   "display_name": "Python 3",
   "language": "python",
   "name": "python3"
  },
  "language_info": {
   "codemirror_mode": {
    "name": "ipython",
    "version": 3
   },
   "file_extension": ".py",
   "mimetype": "text/x-python",
   "name": "python",
   "nbconvert_exporter": "python",
   "pygments_lexer": "ipython3",
   "version": "3.7.3"
  }
 },
 "nbformat": 4,
 "nbformat_minor": 2
}
