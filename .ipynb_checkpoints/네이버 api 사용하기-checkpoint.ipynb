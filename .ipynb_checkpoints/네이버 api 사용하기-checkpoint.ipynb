{
 "cells": [
  {
   "cell_type": "code",
   "execution_count": 28,
   "metadata": {},
   "outputs": [],
   "source": [
    "import pickle\n",
    "import os\n",
    "from os import listdir\n",
    "\n",
    "\n",
    "dirpath = os.path.join(os.getcwd(), 'pickledata' )\n",
    "#print(dirpath)\n",
    "#import sys\n",
    "#sys.exit()\n",
    "\n",
    "if not os.path.isdir(dirpath):\n",
    "    os.mkdir(dirpath)\n"
   ]
  },
  {
   "cell_type": "code",
   "execution_count": 37,
   "metadata": {},
   "outputs": [],
   "source": [
    "import requests\n",
    "\n",
    "auth_url = 'https://nid.naver.com/oauth2.0/authorize'\n",
    "#?response_type=code&client_id=CLIENT_ID&state=STATE_STRING&redirect_uri=CALLBACK_URL&auth_type=reauthenticate\n",
    "client_id = 'BRyN35tPghPQTVf_4uqs'\n",
    "client_secret = 'DDDDDDD'\n",
    "redirect_uri  =  'http://127.0.0.1:8080'\n",
    "\n",
    "params = {\n",
    "    'response_type' : 'code',\n",
    "    'client_id' : client_id,\n",
    "    'redirect_uri' : redirect_uri,\n",
    "    'state' : 'abcde12345'\n",
    "}"
   ]
  },
  {
   "cell_type": "code",
   "execution_count": 38,
   "metadata": {},
   "outputs": [],
   "source": [
    "resp = requests.get(auth_url, params= params)"
   ]
  },
  {
   "cell_type": "code",
   "execution_count": 39,
   "metadata": {},
   "outputs": [
    {
     "data": {
      "text/plain": [
       "'https://nid.naver.com/oauth2.0/authorize?response_type=code&client_id=BRyN35tPghPQTVf_4uqs&redirect_uri=http%3A%2F%2F127.0.0.1%3A8080&state=abcde12345'"
      ]
     },
     "execution_count": 39,
     "metadata": {},
     "output_type": "execute_result"
    }
   ],
   "source": [
    "resp.url"
   ]
  },
  {
   "cell_type": "code",
   "execution_count": 31,
   "metadata": {},
   "outputs": [
    {
     "data": {
      "text/plain": [
       "'https://nid.naver.com/oauth2.0/authorize?response_type=code&client_id=BRyN35tPghPQTVf_4uqs&redirect_uri=http%3A%2F%2F127.0.0.1%3A8080&state=abcde12345'"
      ]
     },
     "execution_count": 31,
     "metadata": {},
     "output_type": "execute_result"
    }
   ],
   "source": [
    "resp.url"
   ]
  },
  {
   "cell_type": "code",
   "execution_count": 42,
   "metadata": {},
   "outputs": [],
   "source": [
    "#code=C2N0JfZnQmgwFjpEbf&\n",
    "#state=abcde12345\n",
    "token_url = 'https://nid.naver.com/oauth2.0/token'\n",
    "\n",
    "params = {\n",
    "    'client_id' : client_id,\n",
    "    'client_secret' : client_secret,\n",
    "    'grant_type' : 'authorization_code',\n",
    "    'state' : 'abcde12345',\n",
    "    'code' : 'qxhl9vijCUB3bzyZen'\n",
    "}\n",
    "    \n",
    "\n",
    "#client_id={클라이언트 아이디}\n",
    "#client_secret={클라이언트 시크릿}\n",
    "#grant_type=authorization_code\n",
    "#state={상태 토큰}&code={인증 코드}\n"
   ]
  },
  {
   "cell_type": "code",
   "execution_count": 43,
   "metadata": {},
   "outputs": [
    {
     "data": {
      "text/plain": [
       "<Response [200]>"
      ]
     },
     "execution_count": 43,
     "metadata": {},
     "output_type": "execute_result"
    }
   ],
   "source": [
    "resp = requests.get(token_url, params= params)\n",
    "resp"
   ]
  },
  {
   "cell_type": "code",
   "execution_count": 44,
   "metadata": {},
   "outputs": [],
   "source": [
    "json_text = resp.json()"
   ]
  },
  {
   "cell_type": "code",
   "execution_count": 45,
   "metadata": {},
   "outputs": [
    {
     "data": {
      "text/plain": [
       "{'error': 'invalid_request', 'error_description': 'no valid data in session'}"
      ]
     },
     "execution_count": 45,
     "metadata": {},
     "output_type": "execute_result"
    }
   ],
   "source": [
    "json_text"
   ]
  },
  {
   "cell_type": "code",
   "execution_count": 41,
   "metadata": {},
   "outputs": [],
   "source": [
    "access_token = json_text['access_token']\n",
    "refresh_token = json_text['refresh_token']\n",
    "token_type = json_text['token_type']\n",
    "exprires_in = json_text['expires_in']"
   ]
  },
  {
   "cell_type": "code",
   "execution_count": null,
   "metadata": {},
   "outputs": [],
   "source": []
  },
  {
   "cell_type": "code",
   "execution_count": null,
   "metadata": {},
   "outputs": [],
   "source": []
  }
 ],
 "metadata": {
  "kernelspec": {
   "display_name": "Python 3",
   "language": "python",
   "name": "python3"
  },
  "language_info": {
   "codemirror_mode": {
    "name": "ipython",
    "version": 3
   },
   "file_extension": ".py",
   "mimetype": "text/x-python",
   "name": "python",
   "nbconvert_exporter": "python",
   "pygments_lexer": "ipython3",
   "version": "3.7.3"
  }
 },
 "nbformat": 4,
 "nbformat_minor": 2
}
