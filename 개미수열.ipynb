{
 "cells": [
  {
   "cell_type": "code",
   "execution_count": 90,
   "metadata": {},
   "outputs": [
    {
     "name": "stdout",
     "output_type": "stream",
     "text": [
      "2\n",
      "\n",
      "2\n",
      "\n",
      "11\n",
      "2\n",
      "11\n",
      "1121\n",
      "1121\n"
     ]
    }
   ],
   "source": [
    "#n = int(input())\n",
    "\n",
    "text = '111223'\n",
    "\n",
    "def count_current(text):\n",
    "    result = ''\n",
    "    text_size = len(text)\n",
    "    for i in range(text_size):\n",
    "        #rint(i)\n",
    "        current_num = 1\n",
    "        #print('dd')\n",
    "        if text_size == 1:\n",
    "            \n",
    "            result += text[i]        \n",
    "            result += str(current_num)\n",
    "            current_num = 0\n",
    "        \n",
    "        else:\n",
    "\n",
    "            if text_size-1 == i:\n",
    "                #print(text_size)\n",
    "                #print(i)\n",
    "                pass\n",
    "            else:\n",
    "                if text[i] == text[i+1]:\n",
    "                    current_num += 1\n",
    "                    print(current_num)\n",
    "                else:\n",
    "                    result += text[i]\n",
    "                    result += str(current_num)\n",
    "                    current_num = 0\n",
    "            print(result)\n",
    "\n",
    "    #print(result)\n",
    "count_current(text)\n",
    "\n"
   ]
  },
  {
   "cell_type": "code",
   "execution_count": 39,
   "metadata": {},
   "outputs": [
    {
     "data": {
      "text/plain": [
       "'1'"
      ]
     },
     "execution_count": 39,
     "metadata": {},
     "output_type": "execute_result"
    }
   ],
   "source": [
    "text = ''\n",
    "text+ '1'"
   ]
  },
  {
   "cell_type": "code",
   "execution_count": null,
   "metadata": {},
   "outputs": [],
   "source": [
    "#text = 'ddd'\n",
    "#for i in range(len(text)):\n",
    "#    print(i)\n",
    "#    if text[i]== text[i+1]:\n",
    "#        print('dd')"
   ]
  }
 ],
 "metadata": {
  "kernelspec": {
   "display_name": "Python 3",
   "language": "python",
   "name": "python3"
  },
  "language_info": {
   "codemirror_mode": {
    "name": "ipython",
    "version": 3
   },
   "file_extension": ".py",
   "mimetype": "text/x-python",
   "name": "python",
   "nbconvert_exporter": "python",
   "pygments_lexer": "ipython3",
   "version": "3.7.3"
  }
 },
 "nbformat": 4,
 "nbformat_minor": 2
}
